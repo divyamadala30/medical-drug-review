{
  "cells": [
    {
      "cell_type": "markdown",
      "source": [
        "# Importing Libraries"
      ],
      "metadata": {
        "id": "xz_eX8095XJr"
      }
    },
    {
      "cell_type": "code",
      "execution_count": 12,
      "metadata": {
        "id": "-Jy0GED7-e2I"
      },
      "outputs": [],
      "source": [
        "import pandas as pd\n",
        "import numpy as np\n",
        "import string\n",
        "from sklearn.feature_extraction.text import CountVectorizer\n",
        "from sklearn.feature_extraction.text import TfidfVectorizer\n",
        "from sklearn.feature_extraction.text import TfidfTransformer\n",
        "from sklearn.model_selection import train_test_split\n",
        "import matplotlib.pyplot as plt\n",
        "import matplotlib.colors as mcolors\n",
        "from sklearn.metrics import confusion_matrix\n",
        "from sklearn.linear_model import LogisticRegression\n",
        "from sklearn.svm import SVC\n",
        "from sklearn.metrics import accuracy_score\n",
        "from sklearn.metrics import precision_recall_fscore_support\n",
        "from sklearn.model_selection import train_test_split\n",
        "from sklearn.tree import DecisionTreeClassifier"
      ]
    },
    {
      "cell_type": "code",
      "source": [
        "from google.colab import drive\n",
        "drive.mount(\"/content/drive/\")"
      ],
      "metadata": {
        "colab": {
          "base_uri": "https://localhost:8080/"
        },
        "id": "z78u1xxMAmDX",
        "outputId": "c385d6c0-1048-423d-b77a-6288200cef3a"
      },
      "execution_count": 2,
      "outputs": [
        {
          "output_type": "stream",
          "name": "stdout",
          "text": [
            "Mounted at /content/drive/\n"
          ]
        }
      ]
    },
    {
      "cell_type": "markdown",
      "source": [
        "# Data Preprocessing and Feature Extraction"
      ],
      "metadata": {
        "id": "MXS5s07zuOdf"
      }
    },
    {
      "cell_type": "code",
      "execution_count": 3,
      "metadata": {
        "colab": {
          "base_uri": "https://localhost:8080/"
        },
        "id": "454w6g6f-e2L",
        "outputId": "db03cb65-e4c9-4253-a86a-e0100783bafe"
      },
      "outputs": [
        {
          "output_type": "stream",
          "name": "stderr",
          "text": [
            "<ipython-input-3-99643a6c6b22>:2: DtypeWarning: Columns (0,1,2,3,7,9,10) have mixed types. Specify dtype option on import or set low_memory=False.\n",
            "  products = pd.read_csv('/content/drive/MyDrive/medical-drug-review/datasets/webmd.csv')\n"
          ]
        },
        {
          "output_type": "stream",
          "name": "stdout",
          "text": [
            "Index(['Age', 'Condition', 'Date', 'Drug', 'DrugId', 'EaseofUse',\n",
            "       'Effectiveness', 'Reviews', 'Satisfaction', 'Sex', 'Sides',\n",
            "       'UsefulCount'],\n",
            "      dtype='object')\n"
          ]
        }
      ],
      "source": [
        "#data prep\n",
        "products = pd.read_csv('/content/drive/MyDrive/medical-drug-review/datasets/webmd.csv')\n",
        "print(products.columns)"
      ]
    },
    {
      "cell_type": "code",
      "execution_count": 4,
      "metadata": {
        "colab": {
          "base_uri": "https://localhost:8080/"
        },
        "id": "WRe7_pnJ-e2L",
        "outputId": "e37259ea-7400-4b17-f47b-c13e6878b46b"
      },
      "outputs": [
        {
          "output_type": "stream",
          "name": "stdout",
          "text": [
            "[  9800.  12112.  75352.  93965. 144731. 146724. 149297. 154120. 163180.\n",
            " 163405.]\n"
          ]
        }
      ],
      "source": [
        "drugIds=np.unique(products['DrugId'])\n",
        "print(drugIds[0:10])"
      ]
    },
    {
      "cell_type": "code",
      "execution_count": 5,
      "metadata": {
        "colab": {
          "base_uri": "https://localhost:8080/",
          "height": 206
        },
        "id": "h0Ry0RvI-e2M",
        "outputId": "495d1fa4-4153-47d2-f381-65558c88281e"
      },
      "outputs": [
        {
          "output_type": "execute_result",
          "data": {
            "text/plain": [
              "                                             Reviews  Satisfaction    DrugId\n",
              "0  I'm a retired physician and of all the meds I ...           5.0  146724.0\n",
              "1  cleared me right up even with my throat hurtin...           5.0  146724.0\n",
              "2  why did my PTINR go from a normal of 2.5 to ov...           3.0  144731.0\n",
              "3                       FALLING AND DON'T REALISE IT           1.0  144731.0\n",
              "4  My grandfather was prescribed this medication ...           1.0  144731.0"
            ],
            "text/html": [
              "\n",
              "  <div id=\"df-3794c18d-560f-4a30-8726-883a27381645\" class=\"colab-df-container\">\n",
              "    <div>\n",
              "<style scoped>\n",
              "    .dataframe tbody tr th:only-of-type {\n",
              "        vertical-align: middle;\n",
              "    }\n",
              "\n",
              "    .dataframe tbody tr th {\n",
              "        vertical-align: top;\n",
              "    }\n",
              "\n",
              "    .dataframe thead th {\n",
              "        text-align: right;\n",
              "    }\n",
              "</style>\n",
              "<table border=\"1\" class=\"dataframe\">\n",
              "  <thead>\n",
              "    <tr style=\"text-align: right;\">\n",
              "      <th></th>\n",
              "      <th>Reviews</th>\n",
              "      <th>Satisfaction</th>\n",
              "      <th>DrugId</th>\n",
              "    </tr>\n",
              "  </thead>\n",
              "  <tbody>\n",
              "    <tr>\n",
              "      <th>0</th>\n",
              "      <td>I'm a retired physician and of all the meds I ...</td>\n",
              "      <td>5.0</td>\n",
              "      <td>146724.0</td>\n",
              "    </tr>\n",
              "    <tr>\n",
              "      <th>1</th>\n",
              "      <td>cleared me right up even with my throat hurtin...</td>\n",
              "      <td>5.0</td>\n",
              "      <td>146724.0</td>\n",
              "    </tr>\n",
              "    <tr>\n",
              "      <th>2</th>\n",
              "      <td>why did my PTINR go from a normal of 2.5 to ov...</td>\n",
              "      <td>3.0</td>\n",
              "      <td>144731.0</td>\n",
              "    </tr>\n",
              "    <tr>\n",
              "      <th>3</th>\n",
              "      <td>FALLING AND DON'T REALISE IT</td>\n",
              "      <td>1.0</td>\n",
              "      <td>144731.0</td>\n",
              "    </tr>\n",
              "    <tr>\n",
              "      <th>4</th>\n",
              "      <td>My grandfather was prescribed this medication ...</td>\n",
              "      <td>1.0</td>\n",
              "      <td>144731.0</td>\n",
              "    </tr>\n",
              "  </tbody>\n",
              "</table>\n",
              "</div>\n",
              "    <div class=\"colab-df-buttons\">\n",
              "\n",
              "  <div class=\"colab-df-container\">\n",
              "    <button class=\"colab-df-convert\" onclick=\"convertToInteractive('df-3794c18d-560f-4a30-8726-883a27381645')\"\n",
              "            title=\"Convert this dataframe to an interactive table.\"\n",
              "            style=\"display:none;\">\n",
              "\n",
              "  <svg xmlns=\"http://www.w3.org/2000/svg\" height=\"24px\" viewBox=\"0 -960 960 960\">\n",
              "    <path d=\"M120-120v-720h720v720H120Zm60-500h600v-160H180v160Zm220 220h160v-160H400v160Zm0 220h160v-160H400v160ZM180-400h160v-160H180v160Zm440 0h160v-160H620v160ZM180-180h160v-160H180v160Zm440 0h160v-160H620v160Z\"/>\n",
              "  </svg>\n",
              "    </button>\n",
              "\n",
              "  <style>\n",
              "    .colab-df-container {\n",
              "      display:flex;\n",
              "      gap: 12px;\n",
              "    }\n",
              "\n",
              "    .colab-df-convert {\n",
              "      background-color: #E8F0FE;\n",
              "      border: none;\n",
              "      border-radius: 50%;\n",
              "      cursor: pointer;\n",
              "      display: none;\n",
              "      fill: #1967D2;\n",
              "      height: 32px;\n",
              "      padding: 0 0 0 0;\n",
              "      width: 32px;\n",
              "    }\n",
              "\n",
              "    .colab-df-convert:hover {\n",
              "      background-color: #E2EBFA;\n",
              "      box-shadow: 0px 1px 2px rgba(60, 64, 67, 0.3), 0px 1px 3px 1px rgba(60, 64, 67, 0.15);\n",
              "      fill: #174EA6;\n",
              "    }\n",
              "\n",
              "    .colab-df-buttons div {\n",
              "      margin-bottom: 4px;\n",
              "    }\n",
              "\n",
              "    [theme=dark] .colab-df-convert {\n",
              "      background-color: #3B4455;\n",
              "      fill: #D2E3FC;\n",
              "    }\n",
              "\n",
              "    [theme=dark] .colab-df-convert:hover {\n",
              "      background-color: #434B5C;\n",
              "      box-shadow: 0px 1px 3px 1px rgba(0, 0, 0, 0.15);\n",
              "      filter: drop-shadow(0px 1px 2px rgba(0, 0, 0, 0.3));\n",
              "      fill: #FFFFFF;\n",
              "    }\n",
              "  </style>\n",
              "\n",
              "    <script>\n",
              "      const buttonEl =\n",
              "        document.querySelector('#df-3794c18d-560f-4a30-8726-883a27381645 button.colab-df-convert');\n",
              "      buttonEl.style.display =\n",
              "        google.colab.kernel.accessAllowed ? 'block' : 'none';\n",
              "\n",
              "      async function convertToInteractive(key) {\n",
              "        const element = document.querySelector('#df-3794c18d-560f-4a30-8726-883a27381645');\n",
              "        const dataTable =\n",
              "          await google.colab.kernel.invokeFunction('convertToInteractive',\n",
              "                                                    [key], {});\n",
              "        if (!dataTable) return;\n",
              "\n",
              "        const docLinkHtml = 'Like what you see? Visit the ' +\n",
              "          '<a target=\"_blank\" href=https://colab.research.google.com/notebooks/data_table.ipynb>data table notebook</a>'\n",
              "          + ' to learn more about interactive tables.';\n",
              "        element.innerHTML = '';\n",
              "        dataTable['output_type'] = 'display_data';\n",
              "        await google.colab.output.renderOutput(dataTable, element);\n",
              "        const docLink = document.createElement('div');\n",
              "        docLink.innerHTML = docLinkHtml;\n",
              "        element.appendChild(docLink);\n",
              "      }\n",
              "    </script>\n",
              "  </div>\n",
              "\n",
              "\n",
              "<div id=\"df-aeb661a5-87e9-4a73-9e41-375bc1da933d\">\n",
              "  <button class=\"colab-df-quickchart\" onclick=\"quickchart('df-aeb661a5-87e9-4a73-9e41-375bc1da933d')\"\n",
              "            title=\"Suggest charts\"\n",
              "            style=\"display:none;\">\n",
              "\n",
              "<svg xmlns=\"http://www.w3.org/2000/svg\" height=\"24px\"viewBox=\"0 0 24 24\"\n",
              "     width=\"24px\">\n",
              "    <g>\n",
              "        <path d=\"M19 3H5c-1.1 0-2 .9-2 2v14c0 1.1.9 2 2 2h14c1.1 0 2-.9 2-2V5c0-1.1-.9-2-2-2zM9 17H7v-7h2v7zm4 0h-2V7h2v10zm4 0h-2v-4h2v4z\"/>\n",
              "    </g>\n",
              "</svg>\n",
              "  </button>\n",
              "\n",
              "<style>\n",
              "  .colab-df-quickchart {\n",
              "      --bg-color: #E8F0FE;\n",
              "      --fill-color: #1967D2;\n",
              "      --hover-bg-color: #E2EBFA;\n",
              "      --hover-fill-color: #174EA6;\n",
              "      --disabled-fill-color: #AAA;\n",
              "      --disabled-bg-color: #DDD;\n",
              "  }\n",
              "\n",
              "  [theme=dark] .colab-df-quickchart {\n",
              "      --bg-color: #3B4455;\n",
              "      --fill-color: #D2E3FC;\n",
              "      --hover-bg-color: #434B5C;\n",
              "      --hover-fill-color: #FFFFFF;\n",
              "      --disabled-bg-color: #3B4455;\n",
              "      --disabled-fill-color: #666;\n",
              "  }\n",
              "\n",
              "  .colab-df-quickchart {\n",
              "    background-color: var(--bg-color);\n",
              "    border: none;\n",
              "    border-radius: 50%;\n",
              "    cursor: pointer;\n",
              "    display: none;\n",
              "    fill: var(--fill-color);\n",
              "    height: 32px;\n",
              "    padding: 0;\n",
              "    width: 32px;\n",
              "  }\n",
              "\n",
              "  .colab-df-quickchart:hover {\n",
              "    background-color: var(--hover-bg-color);\n",
              "    box-shadow: 0 1px 2px rgba(60, 64, 67, 0.3), 0 1px 3px 1px rgba(60, 64, 67, 0.15);\n",
              "    fill: var(--button-hover-fill-color);\n",
              "  }\n",
              "\n",
              "  .colab-df-quickchart-complete:disabled,\n",
              "  .colab-df-quickchart-complete:disabled:hover {\n",
              "    background-color: var(--disabled-bg-color);\n",
              "    fill: var(--disabled-fill-color);\n",
              "    box-shadow: none;\n",
              "  }\n",
              "\n",
              "  .colab-df-spinner {\n",
              "    border: 2px solid var(--fill-color);\n",
              "    border-color: transparent;\n",
              "    border-bottom-color: var(--fill-color);\n",
              "    animation:\n",
              "      spin 1s steps(1) infinite;\n",
              "  }\n",
              "\n",
              "  @keyframes spin {\n",
              "    0% {\n",
              "      border-color: transparent;\n",
              "      border-bottom-color: var(--fill-color);\n",
              "      border-left-color: var(--fill-color);\n",
              "    }\n",
              "    20% {\n",
              "      border-color: transparent;\n",
              "      border-left-color: var(--fill-color);\n",
              "      border-top-color: var(--fill-color);\n",
              "    }\n",
              "    30% {\n",
              "      border-color: transparent;\n",
              "      border-left-color: var(--fill-color);\n",
              "      border-top-color: var(--fill-color);\n",
              "      border-right-color: var(--fill-color);\n",
              "    }\n",
              "    40% {\n",
              "      border-color: transparent;\n",
              "      border-right-color: var(--fill-color);\n",
              "      border-top-color: var(--fill-color);\n",
              "    }\n",
              "    60% {\n",
              "      border-color: transparent;\n",
              "      border-right-color: var(--fill-color);\n",
              "    }\n",
              "    80% {\n",
              "      border-color: transparent;\n",
              "      border-right-color: var(--fill-color);\n",
              "      border-bottom-color: var(--fill-color);\n",
              "    }\n",
              "    90% {\n",
              "      border-color: transparent;\n",
              "      border-bottom-color: var(--fill-color);\n",
              "    }\n",
              "  }\n",
              "</style>\n",
              "\n",
              "  <script>\n",
              "    async function quickchart(key) {\n",
              "      const quickchartButtonEl =\n",
              "        document.querySelector('#' + key + ' button');\n",
              "      quickchartButtonEl.disabled = true;  // To prevent multiple clicks.\n",
              "      quickchartButtonEl.classList.add('colab-df-spinner');\n",
              "      try {\n",
              "        const charts = await google.colab.kernel.invokeFunction(\n",
              "            'suggestCharts', [key], {});\n",
              "      } catch (error) {\n",
              "        console.error('Error during call to suggestCharts:', error);\n",
              "      }\n",
              "      quickchartButtonEl.classList.remove('colab-df-spinner');\n",
              "      quickchartButtonEl.classList.add('colab-df-quickchart-complete');\n",
              "    }\n",
              "    (() => {\n",
              "      let quickchartButtonEl =\n",
              "        document.querySelector('#df-aeb661a5-87e9-4a73-9e41-375bc1da933d button');\n",
              "      quickchartButtonEl.style.display =\n",
              "        google.colab.kernel.accessAllowed ? 'block' : 'none';\n",
              "    })();\n",
              "  </script>\n",
              "</div>\n",
              "    </div>\n",
              "  </div>\n"
            ],
            "application/vnd.google.colaboratory.intrinsic+json": {
              "type": "dataframe",
              "variable_name": "products",
              "summary": "{\n  \"name\": \"products\",\n  \"rows\": 313,\n  \"fields\": [\n    {\n      \"column\": \"Reviews\",\n      \"properties\": {\n        \"dtype\": \"string\",\n        \"num_unique_values\": 295,\n        \"samples\": [\n          \"I've been taking Lyrica for 3 days now, after taking gabapentin and duloxetine.  One of them caused me to break out with hives which lasted about 2 weeks, I also was not able to have an orgasm which drove me man crazy. So far relief is mild Im only taking 25 mg for the first two weeks then will take 2 for the last 2 weeks.  I will then decide if I want to continue with this stuff.  I took Tramadol for about 3 years, don't remember any side effects.  I know I was able to make it to work and back. Now they say its a narcotic and the do not want Dr's prescribing it anymore.  It was much better than this Lyrica. Just finished reading the horror stories.  Don't think Ill take this for too long. I am using a portable tens unit on my back and am trying accupncture.  People should try it it helps me somewhat. \",\n          \"Bleeding decreased to 1/4 after taking this medication. Couldnt be happier!\",\n          \"44 yr old with fibroids and an ovarian cyst. Period lasted 2 months. It has stopped the bleeding but the side effects, for me, are horrible. Severe nausea, cramping, lower back pain, headaches and lack of appetite. I will talk to my doctor about alternatives.\"\n        ],\n        \"semantic_type\": \"\",\n        \"description\": \"\"\n      }\n    },\n    {\n      \"column\": \"Satisfaction\",\n      \"properties\": {\n        \"dtype\": \"number\",\n        \"std\": 1.6520205164221702,\n        \"min\": 1.0,\n        \"max\": 5.0,\n        \"num_unique_values\": 5,\n        \"samples\": [\n          3.0,\n          2.0,\n          1.0\n        ],\n        \"semantic_type\": \"\",\n        \"description\": \"\"\n      }\n    },\n    {\n      \"column\": \"DrugId\",\n      \"properties\": {\n        \"dtype\": \"number\",\n        \"std\": 32523.38441549691,\n        \"min\": 9800.0,\n        \"max\": 170586.0,\n        \"num_unique_values\": 13,\n        \"samples\": [\n          75352.0,\n          163405.0,\n          146724.0\n        ],\n        \"semantic_type\": \"\",\n        \"description\": \"\"\n      }\n    }\n  ]\n}"
            }
          },
          "metadata": {},
          "execution_count": 5
        }
      ],
      "source": [
        "relevant_cols=['Reviews','Satisfaction','DrugId']\n",
        "products = products.loc[:, relevant_cols]\n",
        "\n",
        "products.dropna(subset=['Reviews','Satisfaction','DrugId'], inplace=True)\n",
        "products.reset_index(drop=True, inplace=True)\n",
        "\n",
        "products.head()"
      ]
    },
    {
      "cell_type": "code",
      "execution_count": 6,
      "metadata": {
        "colab": {
          "base_uri": "https://localhost:8080/"
        },
        "id": "Vz-PM0cl-e2M",
        "outputId": "4e604db4-57e4-458b-b351-781728b96732"
      },
      "outputs": [
        {
          "output_type": "stream",
          "name": "stdout",
          "text": [
            "This medication changed my life, I have always had heavy periods because of my thyroid condition but it was not just heavy bleeding but extreme Pain now the pain is manageable and even though it is now a longer period it is so much easier to handle Lysteda changed my life \n"
          ]
        }
      ],
      "source": [
        "print(products['Reviews'][70])"
      ]
    },
    {
      "cell_type": "code",
      "execution_count": 6,
      "metadata": {
        "colab": {
          "base_uri": "https://localhost:8080/"
        },
        "id": "-HNce0MC-e2N",
        "outputId": "a7a83410-43f9-4570-85cb-ee69b045ac5b"
      },
      "outputs": [
        {
          "output_type": "stream",
          "name": "stdout",
          "text": [
            "0      Im a retired physician and of all the meds I h...\n",
            "1      cleared me right up even with my throat hurtin...\n",
            "2      why did my PTINR go from a normal of 25 to ove...\n",
            "3                            FALLING AND DONT REALISE IT\n",
            "4      My grandfather was prescribed this medication ...\n",
            "                             ...                        \n",
            "308                          pinched nerve in lower back\n",
            "309    I had a friend who was diagnosed with Fibromya...\n",
            "310    I had mild visual hallucinations after a week ...\n",
            "311    had reaction spent week in hospital in semi co...\n",
            "312                                                     \n",
            "Name: Reviews, Length: 313, dtype: object\n"
          ]
        }
      ],
      "source": [
        "def remove_punctuation(text):\n",
        "    try: # python 2.x\n",
        "        text = text.translate(None, string.punctuation)\n",
        "    except: # python 3.x\n",
        "        translator = text.maketrans('', '', string.punctuation)\n",
        "        text = text.translate(translator)\n",
        "    return text\n",
        "\n",
        "products['Reviews'] = products['Reviews'].apply(remove_punctuation)\n",
        "print(products['Reviews'])"
      ]
    },
    {
      "cell_type": "code",
      "execution_count": 7,
      "metadata": {
        "colab": {
          "base_uri": "https://localhost:8080/"
        },
        "id": "1xv8rZPn-e2N",
        "outputId": "e3cf6e56-3f19-4bb9-d729-05edbd953b03"
      },
      "outputs": [
        {
          "output_type": "stream",
          "name": "stdout",
          "text": [
            "['x', 'y', 'your', 'yours', 'yourself', 'yourselves', 'you', 'yond', 'yonder', 'yon', 'ye', 'yet', 'z', 'zillion', 'j', 'u', 'umpteen', 'usually', 'us', 'username', 'uponed', 'upons', 'uponing', 'upon', 'ups', 'upping', 'upped', 'up', 'unto', 'until', 'unless', 'unlike', 'unliker', 'unlikest', 'under', 'underneath', 'use', 'used', 'usedest', 'r', 'rath', 'rather', 'rathest', 'rathe', 're', 'relate', 'related', 'relatively', 'regarding', 'really', 'res', 'respecting', 'respectively', 'q', 'quite', 'que', 'qua', 'n', 'neither', 'neaths', 'neath', 'nethe', 'nethermost', 'necessary', 'necessariest', 'necessarier', 'never', 'nevertheless', 'nigh', 'nighest', 'nigher', 'nine', 'noone', 'nobody', 'nobodies', 'nowhere', 'nowheres', 'no', 'noes', 'nor', 'nos', 'no-one', 'none', 'not', 'notwithstanding', 'nothings', 'nothing', 'nathless', 'natheless', 't', 'ten', 'tills', 'till', 'tilled', 'tilling', 'to', 'towards', 'toward', 'towardest', 'towarder', 'together', 'too', 'thy', 'thyself', 'thus', 'than', 'that', 'those', 'thou', 'though', 'thous', 'thouses', 'thoroughest', 'thorougher', 'thorough', 'thoroughly', 'thru', 'thruer', 'thruest', 'thro', 'through', 'throughout', 'throughest', 'througher', 'thine', 'this', 'thises', 'they', 'thee', 'the', 'then', 'thence', 'thenest', 'thener', 'them', 'themselves', 'these', 'therer', 'there', 'thereby', 'therest', 'thereafter', 'therein', 'thereupon', 'therefore', 'their', 'theirs', 'thing', 'things', 'three', 'two', 'o', 'oh', 'owt', 'owning', 'owned', 'own', 'owns', 'others', 'other', 'otherwise', 'otherwisest', 'otherwiser', 'of', 'often', 'oftener', 'oftenest', 'off', 'offs', 'offest', 'one', 'ought', 'oughts', 'our', 'ours', 'ourselves', 'ourself', 'out', 'outest', 'outed', 'outwith', 'outs', 'outside', 'over', 'overallest', 'overaller', 'overalls', 'overall', 'overs', 'or', 'orer', 'orest', 'on', 'oneself', 'onest', 'ons', 'onto', 'a', 'atween', 'at', 'athwart', 'atop', 'afore', 'afterward', 'afterwards', 'after', 'afterest', 'afterer', 'ain', 'an', 'any', 'anything', 'anybody', 'anyone', 'anyhow', 'anywhere', 'anent', 'anear', 'and', 'andor', 'another', 'around', 'ares', 'are', 'aest', 'aer', 'against', 'again', 'accordingly', 'abaft', 'abafter', 'abaftest', 'abovest', 'above', 'abover', 'abouter', 'aboutest', 'about', 'aid', 'amidst', 'amid', 'among', 'amongst', 'apartest', 'aparter', 'apart', 'appeared', 'appears', 'appear', 'appearing', 'appropriating', 'appropriate', 'appropriatest', 'appropriates', 'appropriater', 'appropriated', 'already', 'always', 'also', 'along', 'alongside', 'although', 'almost', 'all', 'allest', 'aller', 'allyou', 'alls', 'albeit', 'awfully', 'as', 'aside', 'asides', 'aslant', 'ases', 'astrider', 'astride', 'astridest', 'astraddlest', 'astraddler', 'astraddle', 'availablest', 'availabler', 'available', 'aughts', 'aught', 'vs', 'v', 'variousest', 'variouser', 'various', 'via', 'vis-a-vis', 'vis-a-viser', 'vis-a-visest', 'viz', 'very', 'veriest', 'verier', 'versus', 'k', 'g', 'go', 'gone', 'good', 'got', 'gotta', 'gotten', 'get', 'gets', 'getting', 'b', 'by', 'byandby', 'by-and-by', 'bist', 'both', 'but', 'buts', 'be', 'beyond', 'because', 'became', 'becomes', 'become', 'becoming', 'becomings', 'becominger', 'becomingest', 'behind', 'behinds', 'before', 'beforehand', 'beforehandest', 'beforehander', 'bettered', 'betters', 'better', 'bettering', 'betwixt', 'between', 'beneath', 'been', 'below', 'besides', 'beside', 'm', 'my', 'myself', 'mucher', 'muchest', 'much', 'must', 'musts', 'musths', 'musth', 'main', 'make', 'mayest', 'many', 'mauger', 'maugre', 'me', 'meanwhiles', 'meanwhile', 'mostly', 'most', 'moreover', 'more', 'might', 'mights', 'midst', 'midsts', 'h', 'huh', 'humph', 'he', 'hers', 'herself', 'her', 'hereby', 'herein', 'hereafters', 'hereafter', 'hereupon', 'hence', 'hadst', 'had', 'having', 'haves', 'have', 'has', 'hast', 'hardly', 'hae', 'hath', 'him', 'himself', 'hither', 'hitherest', 'hitherer', 'his', 'how-do-you-do', 'however', 'how', 'howbeit', 'howdoyoudo', 'hoos', 'hoo', 'w', 'woulded', 'woulding', 'would', 'woulds', 'was', 'wast', 'we', 'wert', 'were', 'with', 'withal', 'without', 'within', 'why', 'what', 'whatever', 'whateverer', 'whateverest', 'whatsoeverer', 'whatsoeverest', 'whatsoever', 'whence', 'whencesoever', 'whenever', 'whensoever', 'when', 'whenas', 'whether', 'wheen', 'whereto', 'whereupon', 'wherever', 'whereon', 'whereof', 'where', 'whereby', 'wherewithal', 'wherewith', 'whereinto', 'wherein', 'whereafter', 'whereas', 'wheresoever', 'wherefrom', 'which', 'whichever', 'whichsoever', 'whilst', 'while', 'whiles', 'whithersoever', 'whither', 'whoever', 'whosoever', 'whoso', 'whose', 'whomever', 's', 'syne', 'syn', 'shalling', 'shall', 'shalled', 'shalls', 'shoulding', 'should', 'shoulded', 'shoulds', 'she', 'sayyid', 'sayid', 'said', 'saider', 'saidest', 'same', 'samest', 'sames', 'samer', 'saved', 'sans', 'sanses', 'sanserifs', 'sanserif', 'so', 'soer', 'soest', 'sobeit', 'someone', 'somebody', 'somehow', 'some', 'somewhere', 'somewhat', 'something', 'sometimest', 'sometimes', 'sometimer', 'sometime', 'several', 'severaler', 'severalest', 'serious', 'seriousest', 'seriouser', 'senza', 'send', 'sent', 'seem', 'seems', 'seemed', 'seemingest', 'seeminger', 'seemings', 'seven', 'summat', 'sups', 'sup', 'supping', 'supped', 'such', 'since', 'sine', 'sines', 'sith', 'six', 'stop', 'stopped', 'p', 'plaintiff', 'plenty', 'plenties', 'please', 'pleased', 'pleases', 'per', 'perhaps', 'particulars', 'particularly', 'particular', 'particularest', 'particularer', 'pro', 'providing', 'provides', 'provided', 'provide', 'probably', 'l', 'layabout', 'layabouts', 'latter', 'latterest', 'latterer', 'latterly', 'latters', 'lots', 'lotting', 'lotted', 'lot', 'lest', 'less', 'ie', 'ifs', 'if', 'i', 'info', 'information', 'itself', 'its', 'it', 'is', 'idem', 'idemer', 'idemest', 'immediate', 'immediately', 'immediatest', 'immediater', 'in', 'inwards', 'inwardest', 'inwarder', 'inward', 'inasmuch', 'into', 'instead', 'insofar', 'indicates', 'indicated', 'indicate', 'indicating', 'indeed', 'inc', 'f', 'fact', 'facts', 'fs', 'figupon', 'figupons', 'figuponing', 'figuponed', 'few', 'fewer', 'fewest', 'frae', 'from', 'failing', 'failings', 'five', 'furthers', 'furtherer', 'furthered', 'furtherest', 'further', 'furthering', 'furthermore', 'fourscore', 'followthrough', 'for', 'forwhy', 'fornenst', 'formerly', 'former', 'formerer', 'formerest', 'formers', 'forbye', 'forby', 'fore', 'forever', 'forer', 'fores', 'four', 'd', 'ddays', 'dday', 'do', 'doing', 'doings', 'doe', 'does', 'doth', 'downwarder', 'downwardest', 'downward', 'downwards', 'downs', 'done', 'doner', 'dones', 'donest', 'dos', 'dost', 'did', 'differentest', 'differenter', 'different', 'describing', 'describe', 'describes', 'described', 'despiting', 'despites', 'despited', 'despite', 'during', 'c', 'cum', 'circa', 'chez', 'cer', 'certain', 'certainest', 'certainer', 'cest', 'canst', 'cannot', 'cant', 'cants', 'canting', 'cantest', 'canted', 'co', 'could', 'couldst', 'comeon', 'comeons', 'come-ons', 'come-on', 'concerning', 'concerninger', 'concerningest', 'consequently', 'considering', 'e', 'eg', 'eight', 'either', 'even', 'evens', 'evenser', 'evensest', 'evened', 'evenest', 'ever', 'everyone', 'everything', 'everybody', 'everywhere', 'every', 'ere', 'each', 'et', 'etc', 'elsewhere', 'else', 'ex', 'excepted', 'excepts', 'except', 'excepting', 'exes', 'enough']\n"
          ]
        }
      ],
      "source": [
        "stop_words_list = open(\"/content/drive/MyDrive/medical-drug-review/datasets/stopwords.txt\",\"r\")\n",
        "stop_words_list = stop_words_list.readlines()\n",
        "stop_words=[]\n",
        "for word in stop_words_list:\n",
        "    stop_words.append(word.split('\\n')[0])\n",
        "print(stop_words)"
      ]
    },
    {
      "cell_type": "code",
      "execution_count": 8,
      "metadata": {
        "id": "uuOswesK-e2N"
      },
      "outputs": [],
      "source": [
        "feature_encoding='tfidf_word_count_' # tfidf_word_count_ or word_count_\n",
        "balance_labels=False # True or False\n",
        "analyzer='word'       # ‘word’, ‘char’, ‘char_wb’\n",
        "ngram_range=(1, 1)    # unigram - (1,1), unigram & bigram - (1,2), bigram - (2,2)\n",
        "stop_words='english' # stop_words or 'english'"
      ]
    },
    {
      "cell_type": "code",
      "execution_count": 10,
      "metadata": {
        "colab": {
          "base_uri": "https://localhost:8080/",
          "height": 72
        },
        "id": "u-DVxiUw-e2O",
        "outputId": "4d883585-5464-48a2-eac7-7d127487175a"
      },
      "outputs": [
        {
          "output_type": "execute_result",
          "data": {
            "text/plain": [
              "\"\\ncount_vect = CountVectorizer(analyzer=analyzer, ngram_range=ngram_range, stop_words=stop_words)\\nX_train_counts = count_vect.fit_transform(products['Reviews'])\\n\\nwc_feature_names = np.array(count_vect.get_feature_names_out())\\nprint('wc_feature_names: {}'.format(wc_feature_names))\\n\\nword_count_df = pd.DataFrame(X_train_counts.toarray())\\nword_count_df = word_count_df.add_prefix('word_count_')\\n\\nproducts = pd.concat([products, word_count_df], axis=1)\\nprint(products.head())\\n\""
            ],
            "application/vnd.google.colaboratory.intrinsic+json": {
              "type": "string"
            }
          },
          "metadata": {},
          "execution_count": 10
        }
      ],
      "source": [
        "# Word Importance: Frequency counts\n",
        "\n",
        "\n",
        "#analyzer='word'       # ‘word’, ‘char’, ‘char_wb’\n",
        "#ngram_range=(2, 2)    # unigram - (1,1), unigram & bigram - (1,2), bigram - (2,2)\n",
        "#stop_words=stop_words # stop_words or 'english'\n",
        "\n",
        "'''\n",
        "count_vect = CountVectorizer(analyzer=analyzer, ngram_range=ngram_range, stop_words=stop_words)\n",
        "X_train_counts = count_vect.fit_transform(products['Reviews'])\n",
        "\n",
        "wc_feature_names = np.array(count_vect.get_feature_names_out())\n",
        "print('wc_feature_names: {}'.format(wc_feature_names))\n",
        "\n",
        "word_count_df = pd.DataFrame(X_train_counts.toarray())\n",
        "word_count_df = word_count_df.add_prefix('word_count_')\n",
        "\n",
        "products = pd.concat([products, word_count_df], axis=1)\n",
        "print(products.head())\n",
        "'''"
      ]
    },
    {
      "cell_type": "code",
      "execution_count": 9,
      "metadata": {
        "colab": {
          "base_uri": "https://localhost:8080/"
        },
        "id": "8YMUgYjo-e2O",
        "outputId": "05d2ddc4-2ebd-4bc2-bbf5-b46f2760d79c"
      },
      "outputs": [
        {
          "output_type": "stream",
          "name": "stdout",
          "text": [
            "wc_feature_names: ['10' '100' '1000' ... 'zinc' 'zingers' 'zombie']\n",
            "                                             Reviews  Satisfaction    DrugId  \\\n",
            "0  Im a retired physician and of all the meds I h...           5.0  146724.0   \n",
            "1  cleared me right up even with my throat hurtin...           5.0  146724.0   \n",
            "2  why did my PTINR go from a normal of 25 to ove...           3.0  144731.0   \n",
            "3                        FALLING AND DONT REALISE IT           1.0  144731.0   \n",
            "4  My grandfather was prescribed this medication ...           1.0  144731.0   \n",
            "\n",
            "   tf_idf_word_count_0  tf_idf_word_count_1  tf_idf_word_count_2  \\\n",
            "0                  0.0             0.000000                  0.0   \n",
            "1                  0.0             0.000000                  0.0   \n",
            "2                  0.0             0.483076                  0.0   \n",
            "3                  0.0             0.000000                  0.0   \n",
            "4                  0.0             0.000000                  0.0   \n",
            "\n",
            "   tf_idf_word_count_3  tf_idf_word_count_4  tf_idf_word_count_5  \\\n",
            "0                  0.0                  0.0                  0.0   \n",
            "1                  0.0                  0.0                  0.0   \n",
            "2                  0.0                  0.0                  0.0   \n",
            "3                  0.0                  0.0                  0.0   \n",
            "4                  0.0                  0.0                  0.0   \n",
            "\n",
            "   tf_idf_word_count_6  ...  tf_idf_word_count_2480  tf_idf_word_count_2481  \\\n",
            "0                  0.0  ...                     0.0                     0.0   \n",
            "1                  0.0  ...                     0.0                     0.0   \n",
            "2                  0.0  ...                     0.0                     0.0   \n",
            "3                  0.0  ...                     0.0                     0.0   \n",
            "4                  0.0  ...                     0.0                     0.0   \n",
            "\n",
            "   tf_idf_word_count_2482  tf_idf_word_count_2483  tf_idf_word_count_2484  \\\n",
            "0                     0.0                     0.0                     0.0   \n",
            "1                     0.0                     0.0                     0.0   \n",
            "2                     0.0                     0.0                     0.0   \n",
            "3                     0.0                     0.0                     0.0   \n",
            "4                     0.0                     0.0                     0.0   \n",
            "\n",
            "   tf_idf_word_count_2485  tf_idf_word_count_2486  tf_idf_word_count_2487  \\\n",
            "0                     0.0                     0.0                     0.0   \n",
            "1                     0.0                     0.0                     0.0   \n",
            "2                     0.0                     0.0                     0.0   \n",
            "3                     0.0                     0.0                     0.0   \n",
            "4                     0.0                     0.0                     0.0   \n",
            "\n",
            "   tf_idf_word_count_2488  tf_idf_word_count_2489  \n",
            "0                     0.0                     0.0  \n",
            "1                     0.0                     0.0  \n",
            "2                     0.0                     0.0  \n",
            "3                     0.0                     0.0  \n",
            "4                     0.0                     0.0  \n",
            "\n",
            "[5 rows x 2493 columns]\n"
          ]
        }
      ],
      "source": [
        "\n",
        "\n",
        "\n",
        "tfidf_transformer = TfidfTransformer()\n",
        "count_vect = CountVectorizer(analyzer=analyzer, ngram_range=ngram_range, stop_words=stop_words)\n",
        "\n",
        "X_train_counts = count_vect.fit_transform(products['Reviews'])\n",
        "wc_feature_names = np.array(count_vect.get_feature_names_out())\n",
        "print('wc_feature_names: {}'.format(wc_feature_names))\n",
        "\n",
        "X_train_tfidf = tfidf_transformer.fit_transform(X_train_counts)\n",
        "word_count_df = pd.DataFrame(X_train_tfidf.toarray())\n",
        "word_count_df = word_count_df.add_prefix('tf_idf_word_count_')\n",
        "products = pd.concat([products, word_count_df], axis=1)\n",
        "print(products.head())"
      ]
    },
    {
      "cell_type": "code",
      "execution_count": 13,
      "metadata": {
        "colab": {
          "base_uri": "https://localhost:8080/"
        },
        "id": "a7NXrrEb-e2P",
        "outputId": "e71bb03c-1eca-47e0-9157-8f28478d958f"
      },
      "outputs": [
        {
          "output_type": "stream",
          "name": "stdout",
          "text": [
            "tfidf_feature_names: ['10' '100' '1000' ... 'zinc' 'zingers' 'zombie']\n",
            "                                             Reviews  Satisfaction    DrugId  \\\n",
            "0  Im a retired physician and of all the meds I h...           5.0  146724.0   \n",
            "1  cleared me right up even with my throat hurtin...           5.0  146724.0   \n",
            "2  why did my PTINR go from a normal of 25 to ove...           3.0  144731.0   \n",
            "3                        FALLING AND DONT REALISE IT           1.0  144731.0   \n",
            "4  My grandfather was prescribed this medication ...           1.0  144731.0   \n",
            "\n",
            "   tf_idf_word_count_0  tf_idf_word_count_1  tf_idf_word_count_2  \\\n",
            "0                  0.0             0.000000                  0.0   \n",
            "1                  0.0             0.000000                  0.0   \n",
            "2                  0.0             0.483076                  0.0   \n",
            "3                  0.0             0.000000                  0.0   \n",
            "4                  0.0             0.000000                  0.0   \n",
            "\n",
            "   tf_idf_word_count_3  tf_idf_word_count_4  tf_idf_word_count_5  \\\n",
            "0                  0.0                  0.0                  0.0   \n",
            "1                  0.0                  0.0                  0.0   \n",
            "2                  0.0                  0.0                  0.0   \n",
            "3                  0.0                  0.0                  0.0   \n",
            "4                  0.0                  0.0                  0.0   \n",
            "\n",
            "   tf_idf_word_count_6  ...  tfidf_word_count_tf_idf_word_count_2480  \\\n",
            "0                  0.0  ...                                      0.0   \n",
            "1                  0.0  ...                                      0.0   \n",
            "2                  0.0  ...                                      0.0   \n",
            "3                  0.0  ...                                      0.0   \n",
            "4                  0.0  ...                                      0.0   \n",
            "\n",
            "   tfidf_word_count_tf_idf_word_count_2481  \\\n",
            "0                                      0.0   \n",
            "1                                      0.0   \n",
            "2                                      0.0   \n",
            "3                                      0.0   \n",
            "4                                      0.0   \n",
            "\n",
            "   tfidf_word_count_tf_idf_word_count_2482  \\\n",
            "0                                      0.0   \n",
            "1                                      0.0   \n",
            "2                                      0.0   \n",
            "3                                      0.0   \n",
            "4                                      0.0   \n",
            "\n",
            "   tfidf_word_count_tf_idf_word_count_2483  \\\n",
            "0                                      0.0   \n",
            "1                                      0.0   \n",
            "2                                      0.0   \n",
            "3                                      0.0   \n",
            "4                                      0.0   \n",
            "\n",
            "   tfidf_word_count_tf_idf_word_count_2484  \\\n",
            "0                                      0.0   \n",
            "1                                      0.0   \n",
            "2                                      0.0   \n",
            "3                                      0.0   \n",
            "4                                      0.0   \n",
            "\n",
            "   tfidf_word_count_tf_idf_word_count_2485  \\\n",
            "0                                      0.0   \n",
            "1                                      0.0   \n",
            "2                                      0.0   \n",
            "3                                      0.0   \n",
            "4                                      0.0   \n",
            "\n",
            "   tfidf_word_count_tf_idf_word_count_2486  \\\n",
            "0                                      0.0   \n",
            "1                                      0.0   \n",
            "2                                      0.0   \n",
            "3                                      0.0   \n",
            "4                                      0.0   \n",
            "\n",
            "   tfidf_word_count_tf_idf_word_count_2487  \\\n",
            "0                                      0.0   \n",
            "1                                      0.0   \n",
            "2                                      0.0   \n",
            "3                                      0.0   \n",
            "4                                      0.0   \n",
            "\n",
            "   tfidf_word_count_tf_idf_word_count_2488  \\\n",
            "0                                      0.0   \n",
            "1                                      0.0   \n",
            "2                                      0.0   \n",
            "3                                      0.0   \n",
            "4                                      0.0   \n",
            "\n",
            "   tfidf_word_count_tf_idf_word_count_2489  \n",
            "0                                      0.0  \n",
            "1                                      0.0  \n",
            "2                                      0.0  \n",
            "3                                      0.0  \n",
            "4                                      0.0  \n",
            "\n",
            "[5 rows x 4983 columns]\n"
          ]
        }
      ],
      "source": [
        "\n",
        "\n",
        "#analyzer='word'       # ‘word’, ‘char’, ‘char_wb’\n",
        "#ngram_range=(2, 2)    # unigram - (1,1), unigram & bigram - (1,2), bigram - (2,2)\n",
        "#stop_words=stop_words # stop_words or 'english'\n",
        "tfidf = TfidfVectorizer(analyzer=analyzer, ngram_range=ngram_range, stop_words=stop_words)\n",
        "\n",
        "X_train_tfidf = tfidf.fit_transform(products['Reviews'])\n",
        "tfidf_df = pd.DataFrame(X_train_tfidf.toarray())\n",
        "tfidf_df = word_count_df.add_prefix('tfidf_word_count_')\n",
        "tfidf_feature_names = np.array(tfidf.get_feature_names_out())\n",
        "print('tfidf_feature_names: {}'.format(tfidf_feature_names))\n",
        "\n",
        "products = pd.concat([products, tfidf_df], axis=1)\n",
        "print(products.head())"
      ]
    },
    {
      "cell_type": "code",
      "execution_count": 14,
      "metadata": {
        "id": "kFpU1HnL-e2P"
      },
      "outputs": [],
      "source": [
        "new_doc = products['Reviews'][:2].to_numpy()\n",
        "responses = tfidf.transform(new_doc)"
      ]
    },
    {
      "cell_type": "code",
      "execution_count": 15,
      "metadata": {
        "id": "OEL0Pwj6-e2P"
      },
      "outputs": [],
      "source": [
        "def get_top_tf_idf_words(response, feature_names, top_n=3):\n",
        "    sorted_nzs = np.argsort(response.data)[:-(top_n+1):-1]\n",
        "    return feature_names[response.indices[sorted_nzs]]"
      ]
    },
    {
      "cell_type": "code",
      "execution_count": 16,
      "metadata": {
        "id": "7WkKh-tg-e2P"
      },
      "outputs": [],
      "source": [
        "top_n=10\n",
        "new_doc = products['Reviews'][:top_n].to_numpy()\n",
        "review_sample = tfidf.transform(new_doc)\n",
        "review_top_words = get_top_tf_idf_words(review_sample, wc_feature_names, top_n=top_n)"
      ]
    },
    {
      "cell_type": "code",
      "execution_count": 17,
      "metadata": {
        "colab": {
          "base_uri": "https://localhost:8080/"
        },
        "id": "fO3TNnLG-e2P",
        "outputId": "e3189279-2ece-48c5-e2c8-641da36a7a06"
      },
      "outputs": [
        {
          "output_type": "stream",
          "name": "stdout",
          "text": [
            "['realise' 'falling' 'age' 'spray' 'operation' 'ptinr' 'heart' 'condition'\n",
            " '100' 'hurting']\n"
          ]
        }
      ],
      "source": [
        "print(review_top_words)"
      ]
    },
    {
      "cell_type": "code",
      "execution_count": 18,
      "metadata": {
        "colab": {
          "base_uri": "https://localhost:8080/"
        },
        "id": "irRWQl2c-e2Q",
        "outputId": "9022d133-2e38-4cc5-d00d-efd6ff9c1d1e"
      },
      "outputs": [
        {
          "output_type": "execute_result",
          "data": {
            "text/plain": [
              "(274, 4983)"
            ]
          },
          "metadata": {},
          "execution_count": 18
        }
      ],
      "source": [
        "#extracting sentiments\n",
        "products = products[products['Satisfaction'] != 3]\n",
        "products.reset_index(drop=True, inplace=True)\n",
        "products.shape"
      ]
    },
    {
      "cell_type": "code",
      "execution_count": 19,
      "metadata": {
        "colab": {
          "base_uri": "https://localhost:8080/",
          "height": 585
        },
        "id": "vzFfISc4-e2Q",
        "outputId": "c17ba017-075c-476f-fc25-b3b8116e86cc"
      },
      "outputs": [
        {
          "output_type": "execute_result",
          "data": {
            "text/plain": [
              "                                             Reviews  Satisfaction    DrugId  \\\n",
              "0  Im a retired physician and of all the meds I h...           5.0  146724.0   \n",
              "1  cleared me right up even with my throat hurtin...           5.0  146724.0   \n",
              "2                        FALLING AND DONT REALISE IT           1.0  144731.0   \n",
              "3  My grandfather was prescribed this medication ...           1.0  144731.0   \n",
              "4                help heart condition operation well           4.0  144731.0   \n",
              "\n",
              "   tf_idf_word_count_0  tf_idf_word_count_1  tf_idf_word_count_2  \\\n",
              "0                  0.0                  0.0                  0.0   \n",
              "1                  0.0                  0.0                  0.0   \n",
              "2                  0.0                  0.0                  0.0   \n",
              "3                  0.0                  0.0                  0.0   \n",
              "4                  0.0                  0.0                  0.0   \n",
              "\n",
              "   tf_idf_word_count_3  tf_idf_word_count_4  tf_idf_word_count_5  \\\n",
              "0                  0.0                  0.0                  0.0   \n",
              "1                  0.0                  0.0                  0.0   \n",
              "2                  0.0                  0.0                  0.0   \n",
              "3                  0.0                  0.0                  0.0   \n",
              "4                  0.0                  0.0                  0.0   \n",
              "\n",
              "   tf_idf_word_count_6  ...  tfidf_word_count_tf_idf_word_count_2481  \\\n",
              "0                  0.0  ...                                      0.0   \n",
              "1                  0.0  ...                                      0.0   \n",
              "2                  0.0  ...                                      0.0   \n",
              "3                  0.0  ...                                      0.0   \n",
              "4                  0.0  ...                                      0.0   \n",
              "\n",
              "   tfidf_word_count_tf_idf_word_count_2482  \\\n",
              "0                                      0.0   \n",
              "1                                      0.0   \n",
              "2                                      0.0   \n",
              "3                                      0.0   \n",
              "4                                      0.0   \n",
              "\n",
              "   tfidf_word_count_tf_idf_word_count_2483  \\\n",
              "0                                      0.0   \n",
              "1                                      0.0   \n",
              "2                                      0.0   \n",
              "3                                      0.0   \n",
              "4                                      0.0   \n",
              "\n",
              "   tfidf_word_count_tf_idf_word_count_2484  \\\n",
              "0                                      0.0   \n",
              "1                                      0.0   \n",
              "2                                      0.0   \n",
              "3                                      0.0   \n",
              "4                                      0.0   \n",
              "\n",
              "   tfidf_word_count_tf_idf_word_count_2485  \\\n",
              "0                                      0.0   \n",
              "1                                      0.0   \n",
              "2                                      0.0   \n",
              "3                                      0.0   \n",
              "4                                      0.0   \n",
              "\n",
              "   tfidf_word_count_tf_idf_word_count_2486  \\\n",
              "0                                      0.0   \n",
              "1                                      0.0   \n",
              "2                                      0.0   \n",
              "3                                      0.0   \n",
              "4                                      0.0   \n",
              "\n",
              "   tfidf_word_count_tf_idf_word_count_2487  \\\n",
              "0                                      0.0   \n",
              "1                                      0.0   \n",
              "2                                      0.0   \n",
              "3                                      0.0   \n",
              "4                                      0.0   \n",
              "\n",
              "   tfidf_word_count_tf_idf_word_count_2488  \\\n",
              "0                                      0.0   \n",
              "1                                      0.0   \n",
              "2                                      0.0   \n",
              "3                                      0.0   \n",
              "4                                      0.0   \n",
              "\n",
              "   tfidf_word_count_tf_idf_word_count_2489  sentiment  \n",
              "0                                      0.0          1  \n",
              "1                                      0.0          1  \n",
              "2                                      0.0         -1  \n",
              "3                                      0.0         -1  \n",
              "4                                      0.0          1  \n",
              "\n",
              "[5 rows x 4984 columns]"
            ],
            "text/html": [
              "\n",
              "  <div id=\"df-0610fa0d-8a4b-46cb-8980-96e9d4bf8adf\" class=\"colab-df-container\">\n",
              "    <div>\n",
              "<style scoped>\n",
              "    .dataframe tbody tr th:only-of-type {\n",
              "        vertical-align: middle;\n",
              "    }\n",
              "\n",
              "    .dataframe tbody tr th {\n",
              "        vertical-align: top;\n",
              "    }\n",
              "\n",
              "    .dataframe thead th {\n",
              "        text-align: right;\n",
              "    }\n",
              "</style>\n",
              "<table border=\"1\" class=\"dataframe\">\n",
              "  <thead>\n",
              "    <tr style=\"text-align: right;\">\n",
              "      <th></th>\n",
              "      <th>Reviews</th>\n",
              "      <th>Satisfaction</th>\n",
              "      <th>DrugId</th>\n",
              "      <th>tf_idf_word_count_0</th>\n",
              "      <th>tf_idf_word_count_1</th>\n",
              "      <th>tf_idf_word_count_2</th>\n",
              "      <th>tf_idf_word_count_3</th>\n",
              "      <th>tf_idf_word_count_4</th>\n",
              "      <th>tf_idf_word_count_5</th>\n",
              "      <th>tf_idf_word_count_6</th>\n",
              "      <th>...</th>\n",
              "      <th>tfidf_word_count_tf_idf_word_count_2481</th>\n",
              "      <th>tfidf_word_count_tf_idf_word_count_2482</th>\n",
              "      <th>tfidf_word_count_tf_idf_word_count_2483</th>\n",
              "      <th>tfidf_word_count_tf_idf_word_count_2484</th>\n",
              "      <th>tfidf_word_count_tf_idf_word_count_2485</th>\n",
              "      <th>tfidf_word_count_tf_idf_word_count_2486</th>\n",
              "      <th>tfidf_word_count_tf_idf_word_count_2487</th>\n",
              "      <th>tfidf_word_count_tf_idf_word_count_2488</th>\n",
              "      <th>tfidf_word_count_tf_idf_word_count_2489</th>\n",
              "      <th>sentiment</th>\n",
              "    </tr>\n",
              "  </thead>\n",
              "  <tbody>\n",
              "    <tr>\n",
              "      <th>0</th>\n",
              "      <td>Im a retired physician and of all the meds I h...</td>\n",
              "      <td>5.0</td>\n",
              "      <td>146724.0</td>\n",
              "      <td>0.0</td>\n",
              "      <td>0.0</td>\n",
              "      <td>0.0</td>\n",
              "      <td>0.0</td>\n",
              "      <td>0.0</td>\n",
              "      <td>0.0</td>\n",
              "      <td>0.0</td>\n",
              "      <td>...</td>\n",
              "      <td>0.0</td>\n",
              "      <td>0.0</td>\n",
              "      <td>0.0</td>\n",
              "      <td>0.0</td>\n",
              "      <td>0.0</td>\n",
              "      <td>0.0</td>\n",
              "      <td>0.0</td>\n",
              "      <td>0.0</td>\n",
              "      <td>0.0</td>\n",
              "      <td>1</td>\n",
              "    </tr>\n",
              "    <tr>\n",
              "      <th>1</th>\n",
              "      <td>cleared me right up even with my throat hurtin...</td>\n",
              "      <td>5.0</td>\n",
              "      <td>146724.0</td>\n",
              "      <td>0.0</td>\n",
              "      <td>0.0</td>\n",
              "      <td>0.0</td>\n",
              "      <td>0.0</td>\n",
              "      <td>0.0</td>\n",
              "      <td>0.0</td>\n",
              "      <td>0.0</td>\n",
              "      <td>...</td>\n",
              "      <td>0.0</td>\n",
              "      <td>0.0</td>\n",
              "      <td>0.0</td>\n",
              "      <td>0.0</td>\n",
              "      <td>0.0</td>\n",
              "      <td>0.0</td>\n",
              "      <td>0.0</td>\n",
              "      <td>0.0</td>\n",
              "      <td>0.0</td>\n",
              "      <td>1</td>\n",
              "    </tr>\n",
              "    <tr>\n",
              "      <th>2</th>\n",
              "      <td>FALLING AND DONT REALISE IT</td>\n",
              "      <td>1.0</td>\n",
              "      <td>144731.0</td>\n",
              "      <td>0.0</td>\n",
              "      <td>0.0</td>\n",
              "      <td>0.0</td>\n",
              "      <td>0.0</td>\n",
              "      <td>0.0</td>\n",
              "      <td>0.0</td>\n",
              "      <td>0.0</td>\n",
              "      <td>...</td>\n",
              "      <td>0.0</td>\n",
              "      <td>0.0</td>\n",
              "      <td>0.0</td>\n",
              "      <td>0.0</td>\n",
              "      <td>0.0</td>\n",
              "      <td>0.0</td>\n",
              "      <td>0.0</td>\n",
              "      <td>0.0</td>\n",
              "      <td>0.0</td>\n",
              "      <td>-1</td>\n",
              "    </tr>\n",
              "    <tr>\n",
              "      <th>3</th>\n",
              "      <td>My grandfather was prescribed this medication ...</td>\n",
              "      <td>1.0</td>\n",
              "      <td>144731.0</td>\n",
              "      <td>0.0</td>\n",
              "      <td>0.0</td>\n",
              "      <td>0.0</td>\n",
              "      <td>0.0</td>\n",
              "      <td>0.0</td>\n",
              "      <td>0.0</td>\n",
              "      <td>0.0</td>\n",
              "      <td>...</td>\n",
              "      <td>0.0</td>\n",
              "      <td>0.0</td>\n",
              "      <td>0.0</td>\n",
              "      <td>0.0</td>\n",
              "      <td>0.0</td>\n",
              "      <td>0.0</td>\n",
              "      <td>0.0</td>\n",
              "      <td>0.0</td>\n",
              "      <td>0.0</td>\n",
              "      <td>-1</td>\n",
              "    </tr>\n",
              "    <tr>\n",
              "      <th>4</th>\n",
              "      <td>help heart condition operation well</td>\n",
              "      <td>4.0</td>\n",
              "      <td>144731.0</td>\n",
              "      <td>0.0</td>\n",
              "      <td>0.0</td>\n",
              "      <td>0.0</td>\n",
              "      <td>0.0</td>\n",
              "      <td>0.0</td>\n",
              "      <td>0.0</td>\n",
              "      <td>0.0</td>\n",
              "      <td>...</td>\n",
              "      <td>0.0</td>\n",
              "      <td>0.0</td>\n",
              "      <td>0.0</td>\n",
              "      <td>0.0</td>\n",
              "      <td>0.0</td>\n",
              "      <td>0.0</td>\n",
              "      <td>0.0</td>\n",
              "      <td>0.0</td>\n",
              "      <td>0.0</td>\n",
              "      <td>1</td>\n",
              "    </tr>\n",
              "  </tbody>\n",
              "</table>\n",
              "<p>5 rows × 4984 columns</p>\n",
              "</div>\n",
              "    <div class=\"colab-df-buttons\">\n",
              "\n",
              "  <div class=\"colab-df-container\">\n",
              "    <button class=\"colab-df-convert\" onclick=\"convertToInteractive('df-0610fa0d-8a4b-46cb-8980-96e9d4bf8adf')\"\n",
              "            title=\"Convert this dataframe to an interactive table.\"\n",
              "            style=\"display:none;\">\n",
              "\n",
              "  <svg xmlns=\"http://www.w3.org/2000/svg\" height=\"24px\" viewBox=\"0 -960 960 960\">\n",
              "    <path d=\"M120-120v-720h720v720H120Zm60-500h600v-160H180v160Zm220 220h160v-160H400v160Zm0 220h160v-160H400v160ZM180-400h160v-160H180v160Zm440 0h160v-160H620v160ZM180-180h160v-160H180v160Zm440 0h160v-160H620v160Z\"/>\n",
              "  </svg>\n",
              "    </button>\n",
              "\n",
              "  <style>\n",
              "    .colab-df-container {\n",
              "      display:flex;\n",
              "      gap: 12px;\n",
              "    }\n",
              "\n",
              "    .colab-df-convert {\n",
              "      background-color: #E8F0FE;\n",
              "      border: none;\n",
              "      border-radius: 50%;\n",
              "      cursor: pointer;\n",
              "      display: none;\n",
              "      fill: #1967D2;\n",
              "      height: 32px;\n",
              "      padding: 0 0 0 0;\n",
              "      width: 32px;\n",
              "    }\n",
              "\n",
              "    .colab-df-convert:hover {\n",
              "      background-color: #E2EBFA;\n",
              "      box-shadow: 0px 1px 2px rgba(60, 64, 67, 0.3), 0px 1px 3px 1px rgba(60, 64, 67, 0.15);\n",
              "      fill: #174EA6;\n",
              "    }\n",
              "\n",
              "    .colab-df-buttons div {\n",
              "      margin-bottom: 4px;\n",
              "    }\n",
              "\n",
              "    [theme=dark] .colab-df-convert {\n",
              "      background-color: #3B4455;\n",
              "      fill: #D2E3FC;\n",
              "    }\n",
              "\n",
              "    [theme=dark] .colab-df-convert:hover {\n",
              "      background-color: #434B5C;\n",
              "      box-shadow: 0px 1px 3px 1px rgba(0, 0, 0, 0.15);\n",
              "      filter: drop-shadow(0px 1px 2px rgba(0, 0, 0, 0.3));\n",
              "      fill: #FFFFFF;\n",
              "    }\n",
              "  </style>\n",
              "\n",
              "    <script>\n",
              "      const buttonEl =\n",
              "        document.querySelector('#df-0610fa0d-8a4b-46cb-8980-96e9d4bf8adf button.colab-df-convert');\n",
              "      buttonEl.style.display =\n",
              "        google.colab.kernel.accessAllowed ? 'block' : 'none';\n",
              "\n",
              "      async function convertToInteractive(key) {\n",
              "        const element = document.querySelector('#df-0610fa0d-8a4b-46cb-8980-96e9d4bf8adf');\n",
              "        const dataTable =\n",
              "          await google.colab.kernel.invokeFunction('convertToInteractive',\n",
              "                                                    [key], {});\n",
              "        if (!dataTable) return;\n",
              "\n",
              "        const docLinkHtml = 'Like what you see? Visit the ' +\n",
              "          '<a target=\"_blank\" href=https://colab.research.google.com/notebooks/data_table.ipynb>data table notebook</a>'\n",
              "          + ' to learn more about interactive tables.';\n",
              "        element.innerHTML = '';\n",
              "        dataTable['output_type'] = 'display_data';\n",
              "        await google.colab.output.renderOutput(dataTable, element);\n",
              "        const docLink = document.createElement('div');\n",
              "        docLink.innerHTML = docLinkHtml;\n",
              "        element.appendChild(docLink);\n",
              "      }\n",
              "    </script>\n",
              "  </div>\n",
              "\n",
              "\n",
              "<div id=\"df-29876a0c-8cda-45c6-bea2-6f96fc809fca\">\n",
              "  <button class=\"colab-df-quickchart\" onclick=\"quickchart('df-29876a0c-8cda-45c6-bea2-6f96fc809fca')\"\n",
              "            title=\"Suggest charts\"\n",
              "            style=\"display:none;\">\n",
              "\n",
              "<svg xmlns=\"http://www.w3.org/2000/svg\" height=\"24px\"viewBox=\"0 0 24 24\"\n",
              "     width=\"24px\">\n",
              "    <g>\n",
              "        <path d=\"M19 3H5c-1.1 0-2 .9-2 2v14c0 1.1.9 2 2 2h14c1.1 0 2-.9 2-2V5c0-1.1-.9-2-2-2zM9 17H7v-7h2v7zm4 0h-2V7h2v10zm4 0h-2v-4h2v4z\"/>\n",
              "    </g>\n",
              "</svg>\n",
              "  </button>\n",
              "\n",
              "<style>\n",
              "  .colab-df-quickchart {\n",
              "      --bg-color: #E8F0FE;\n",
              "      --fill-color: #1967D2;\n",
              "      --hover-bg-color: #E2EBFA;\n",
              "      --hover-fill-color: #174EA6;\n",
              "      --disabled-fill-color: #AAA;\n",
              "      --disabled-bg-color: #DDD;\n",
              "  }\n",
              "\n",
              "  [theme=dark] .colab-df-quickchart {\n",
              "      --bg-color: #3B4455;\n",
              "      --fill-color: #D2E3FC;\n",
              "      --hover-bg-color: #434B5C;\n",
              "      --hover-fill-color: #FFFFFF;\n",
              "      --disabled-bg-color: #3B4455;\n",
              "      --disabled-fill-color: #666;\n",
              "  }\n",
              "\n",
              "  .colab-df-quickchart {\n",
              "    background-color: var(--bg-color);\n",
              "    border: none;\n",
              "    border-radius: 50%;\n",
              "    cursor: pointer;\n",
              "    display: none;\n",
              "    fill: var(--fill-color);\n",
              "    height: 32px;\n",
              "    padding: 0;\n",
              "    width: 32px;\n",
              "  }\n",
              "\n",
              "  .colab-df-quickchart:hover {\n",
              "    background-color: var(--hover-bg-color);\n",
              "    box-shadow: 0 1px 2px rgba(60, 64, 67, 0.3), 0 1px 3px 1px rgba(60, 64, 67, 0.15);\n",
              "    fill: var(--button-hover-fill-color);\n",
              "  }\n",
              "\n",
              "  .colab-df-quickchart-complete:disabled,\n",
              "  .colab-df-quickchart-complete:disabled:hover {\n",
              "    background-color: var(--disabled-bg-color);\n",
              "    fill: var(--disabled-fill-color);\n",
              "    box-shadow: none;\n",
              "  }\n",
              "\n",
              "  .colab-df-spinner {\n",
              "    border: 2px solid var(--fill-color);\n",
              "    border-color: transparent;\n",
              "    border-bottom-color: var(--fill-color);\n",
              "    animation:\n",
              "      spin 1s steps(1) infinite;\n",
              "  }\n",
              "\n",
              "  @keyframes spin {\n",
              "    0% {\n",
              "      border-color: transparent;\n",
              "      border-bottom-color: var(--fill-color);\n",
              "      border-left-color: var(--fill-color);\n",
              "    }\n",
              "    20% {\n",
              "      border-color: transparent;\n",
              "      border-left-color: var(--fill-color);\n",
              "      border-top-color: var(--fill-color);\n",
              "    }\n",
              "    30% {\n",
              "      border-color: transparent;\n",
              "      border-left-color: var(--fill-color);\n",
              "      border-top-color: var(--fill-color);\n",
              "      border-right-color: var(--fill-color);\n",
              "    }\n",
              "    40% {\n",
              "      border-color: transparent;\n",
              "      border-right-color: var(--fill-color);\n",
              "      border-top-color: var(--fill-color);\n",
              "    }\n",
              "    60% {\n",
              "      border-color: transparent;\n",
              "      border-right-color: var(--fill-color);\n",
              "    }\n",
              "    80% {\n",
              "      border-color: transparent;\n",
              "      border-right-color: var(--fill-color);\n",
              "      border-bottom-color: var(--fill-color);\n",
              "    }\n",
              "    90% {\n",
              "      border-color: transparent;\n",
              "      border-bottom-color: var(--fill-color);\n",
              "    }\n",
              "  }\n",
              "</style>\n",
              "\n",
              "  <script>\n",
              "    async function quickchart(key) {\n",
              "      const quickchartButtonEl =\n",
              "        document.querySelector('#' + key + ' button');\n",
              "      quickchartButtonEl.disabled = true;  // To prevent multiple clicks.\n",
              "      quickchartButtonEl.classList.add('colab-df-spinner');\n",
              "      try {\n",
              "        const charts = await google.colab.kernel.invokeFunction(\n",
              "            'suggestCharts', [key], {});\n",
              "      } catch (error) {\n",
              "        console.error('Error during call to suggestCharts:', error);\n",
              "      }\n",
              "      quickchartButtonEl.classList.remove('colab-df-spinner');\n",
              "      quickchartButtonEl.classList.add('colab-df-quickchart-complete');\n",
              "    }\n",
              "    (() => {\n",
              "      let quickchartButtonEl =\n",
              "        document.querySelector('#df-29876a0c-8cda-45c6-bea2-6f96fc809fca button');\n",
              "      quickchartButtonEl.style.display =\n",
              "        google.colab.kernel.accessAllowed ? 'block' : 'none';\n",
              "    })();\n",
              "  </script>\n",
              "</div>\n",
              "    </div>\n",
              "  </div>\n"
            ],
            "application/vnd.google.colaboratory.intrinsic+json": {
              "type": "dataframe",
              "variable_name": "products"
            }
          },
          "metadata": {},
          "execution_count": 19
        }
      ],
      "source": [
        "products['sentiment'] = products['Satisfaction'].apply(lambda r: +1 if r > 3 else -1)\n",
        "products.head()"
      ]
    },
    {
      "cell_type": "code",
      "execution_count": 19,
      "metadata": {
        "colab": {
          "base_uri": "https://localhost:8080/",
          "height": 470
        },
        "id": "H6Q672wU-e2Q",
        "outputId": "3d4a5181-4c5d-409d-a042-b674188e3bff"
      },
      "outputs": [
        {
          "output_type": "execute_result",
          "data": {
            "text/plain": [
              "array([[<Axes: title={'center': 'sentiment'}>]], dtype=object)"
            ]
          },
          "metadata": {},
          "execution_count": 19
        },
        {
          "output_type": "display_data",
          "data": {
            "text/plain": [
              "<Figure size 640x480 with 1 Axes>"
            ],
            "image/png": "[encoded data removed]"
          },
          "metadata": {}
        }
      ],
      "source": [
        "# View number of positive and negative sentiment\n",
        "products.hist(column=['sentiment'])"
      ]
    },
    {
      "cell_type": "code",
      "execution_count": 20,
      "metadata": {
        "id": "RzeRHE1C-e2Q"
      },
      "outputs": [],
      "source": [
        "if(balance_labels):\n",
        "    # Report number of positive examples\n",
        "    positive_sent = products[products['sentiment']==1]\n",
        "    print('There are {} positive reviews'.format(len(positive_sent)))\n",
        "\n",
        "    # Report number of negative examples\n",
        "    negative_sent = products[products['sentiment']==-1]\n",
        "    print('There are {} negative reviews'.format(len(negative_sent)))\n",
        "\n",
        "    # Sample number of negative example from positive examples (# positive > # negative)\n",
        "    positive_sample = positive_sent.sample(n = len(negative_sent))\n",
        "    print('[Update] There are {} positive reviews'.format(len(positive_sample)))\n",
        "\n",
        "    # Merge positive and negative examples and update products dataframe\n",
        "    frames = [negative_sent, positive_sample]\n",
        "    products = pd.concat(frames)"
      ]
    },
    {
      "cell_type": "code",
      "execution_count": 21,
      "metadata": {
        "colab": {
          "base_uri": "https://localhost:8080/"
        },
        "id": "DCjvOMl9-e2Q",
        "outputId": "705c5cc5-3ab7-4ad0-8e16-f7bde8fade80"
      },
      "outputs": [
        {
          "output_type": "stream",
          "name": "stdout",
          "text": [
            "                                             Reviews  Satisfaction    DrugId  \\\n",
            "0  Im a retired physician and of all the meds I h...           5.0  146724.0   \n",
            "1  cleared me right up even with my throat hurtin...           5.0  146724.0   \n",
            "2                        FALLING AND DONT REALISE IT           1.0  144731.0   \n",
            "3  My grandfather was prescribed this medication ...           1.0  144731.0   \n",
            "4                help heart condition operation well           4.0  144731.0   \n",
            "\n",
            "   tf_idf_word_count_0  tf_idf_word_count_1  tf_idf_word_count_2  \\\n",
            "0                  0.0                  0.0                  0.0   \n",
            "1                  0.0                  0.0                  0.0   \n",
            "2                  0.0                  0.0                  0.0   \n",
            "3                  0.0                  0.0                  0.0   \n",
            "4                  0.0                  0.0                  0.0   \n",
            "\n",
            "   tf_idf_word_count_3  tf_idf_word_count_4  tf_idf_word_count_5  \\\n",
            "0                  0.0                  0.0                  0.0   \n",
            "1                  0.0                  0.0                  0.0   \n",
            "2                  0.0                  0.0                  0.0   \n",
            "3                  0.0                  0.0                  0.0   \n",
            "4                  0.0                  0.0                  0.0   \n",
            "\n",
            "   tf_idf_word_count_6  ...  tfidf_word_count_tf_idf_word_count_2481  \\\n",
            "0                  0.0  ...                                      0.0   \n",
            "1                  0.0  ...                                      0.0   \n",
            "2                  0.0  ...                                      0.0   \n",
            "3                  0.0  ...                                      0.0   \n",
            "4                  0.0  ...                                      0.0   \n",
            "\n",
            "   tfidf_word_count_tf_idf_word_count_2482  \\\n",
            "0                                      0.0   \n",
            "1                                      0.0   \n",
            "2                                      0.0   \n",
            "3                                      0.0   \n",
            "4                                      0.0   \n",
            "\n",
            "   tfidf_word_count_tf_idf_word_count_2483  \\\n",
            "0                                      0.0   \n",
            "1                                      0.0   \n",
            "2                                      0.0   \n",
            "3                                      0.0   \n",
            "4                                      0.0   \n",
            "\n",
            "   tfidf_word_count_tf_idf_word_count_2484  \\\n",
            "0                                      0.0   \n",
            "1                                      0.0   \n",
            "2                                      0.0   \n",
            "3                                      0.0   \n",
            "4                                      0.0   \n",
            "\n",
            "   tfidf_word_count_tf_idf_word_count_2485  \\\n",
            "0                                      0.0   \n",
            "1                                      0.0   \n",
            "2                                      0.0   \n",
            "3                                      0.0   \n",
            "4                                      0.0   \n",
            "\n",
            "   tfidf_word_count_tf_idf_word_count_2486  \\\n",
            "0                                      0.0   \n",
            "1                                      0.0   \n",
            "2                                      0.0   \n",
            "3                                      0.0   \n",
            "4                                      0.0   \n",
            "\n",
            "   tfidf_word_count_tf_idf_word_count_2487  \\\n",
            "0                                      0.0   \n",
            "1                                      0.0   \n",
            "2                                      0.0   \n",
            "3                                      0.0   \n",
            "4                                      0.0   \n",
            "\n",
            "   tfidf_word_count_tf_idf_word_count_2488  \\\n",
            "0                                      0.0   \n",
            "1                                      0.0   \n",
            "2                                      0.0   \n",
            "3                                      0.0   \n",
            "4                                      0.0   \n",
            "\n",
            "   tfidf_word_count_tf_idf_word_count_2489  sentiment  \n",
            "0                                      0.0          1  \n",
            "1                                      0.0          1  \n",
            "2                                      0.0         -1  \n",
            "3                                      0.0         -1  \n",
            "4                                      0.0          1  \n",
            "\n",
            "[5 rows x 4984 columns]\n"
          ]
        }
      ],
      "source": [
        "print(products.head())"
      ]
    },
    {
      "cell_type": "code",
      "execution_count": 22,
      "metadata": {
        "colab": {
          "base_uri": "https://localhost:8080/"
        },
        "id": "mqLWpmk5-e2Q",
        "outputId": "4ff9dd29-88f3-4a96-de8f-308f72b62fbc"
      },
      "outputs": [
        {
          "output_type": "stream",
          "name": "stdout",
          "text": [
            "                                               Reviews  Satisfaction   DrugId  \\\n",
            "269                        pinched nerve in lower back           4.0  93965.0   \n",
            "270  I had a friend who was diagnosed with Fibromya...           1.0  93965.0   \n",
            "271  I had mild visual hallucinations after a week ...           1.0  93965.0   \n",
            "272  had reaction spent week in hospital in semi co...           1.0  93965.0   \n",
            "273                                                              1.0  93965.0   \n",
            "\n",
            "     tf_idf_word_count_0  tf_idf_word_count_1  tf_idf_word_count_2  \\\n",
            "269                  0.0                  0.0                  0.0   \n",
            "270                  0.0                  0.0                  0.0   \n",
            "271                  0.0                  0.0                  0.0   \n",
            "272                  0.0                  0.0                  0.0   \n",
            "273                  0.0                  0.0                  0.0   \n",
            "\n",
            "     tf_idf_word_count_3  tf_idf_word_count_4  tf_idf_word_count_5  \\\n",
            "269                  0.0                  0.0                  0.0   \n",
            "270                  0.0                  0.0                  0.0   \n",
            "271                  0.0                  0.0                  0.0   \n",
            "272                  0.0                  0.0                  0.0   \n",
            "273                  0.0                  0.0                  0.0   \n",
            "\n",
            "     tf_idf_word_count_6  ...  tfidf_word_count_tf_idf_word_count_2481  \\\n",
            "269                  0.0  ...                                      0.0   \n",
            "270                  0.0  ...                                      0.0   \n",
            "271                  0.0  ...                                      0.0   \n",
            "272                  0.0  ...                                      0.0   \n",
            "273                  0.0  ...                                      0.0   \n",
            "\n",
            "     tfidf_word_count_tf_idf_word_count_2482  \\\n",
            "269                                      0.0   \n",
            "270                                      0.0   \n",
            "271                                      0.0   \n",
            "272                                      0.0   \n",
            "273                                      0.0   \n",
            "\n",
            "     tfidf_word_count_tf_idf_word_count_2483  \\\n",
            "269                                 0.000000   \n",
            "270                                 0.184064   \n",
            "271                                 0.000000   \n",
            "272                                 0.000000   \n",
            "273                                 0.000000   \n",
            "\n",
            "     tfidf_word_count_tf_idf_word_count_2484  \\\n",
            "269                                      0.0   \n",
            "270                                      0.0   \n",
            "271                                      0.0   \n",
            "272                                      0.0   \n",
            "273                                      0.0   \n",
            "\n",
            "     tfidf_word_count_tf_idf_word_count_2485  \\\n",
            "269                                      0.0   \n",
            "270                                      0.0   \n",
            "271                                      0.0   \n",
            "272                                      0.0   \n",
            "273                                      0.0   \n",
            "\n",
            "     tfidf_word_count_tf_idf_word_count_2486  \\\n",
            "269                                      0.0   \n",
            "270                                      0.0   \n",
            "271                                      0.0   \n",
            "272                                      0.0   \n",
            "273                                      0.0   \n",
            "\n",
            "     tfidf_word_count_tf_idf_word_count_2487  \\\n",
            "269                                      0.0   \n",
            "270                                      0.0   \n",
            "271                                      0.0   \n",
            "272                                      0.0   \n",
            "273                                      0.0   \n",
            "\n",
            "     tfidf_word_count_tf_idf_word_count_2488  \\\n",
            "269                                      0.0   \n",
            "270                                      0.0   \n",
            "271                                      0.0   \n",
            "272                                      0.0   \n",
            "273                                      0.0   \n",
            "\n",
            "     tfidf_word_count_tf_idf_word_count_2489  sentiment  \n",
            "269                                      0.0          1  \n",
            "270                                      0.0         -1  \n",
            "271                                      0.0         -1  \n",
            "272                                      0.0         -1  \n",
            "273                                      0.0         -1  \n",
            "\n",
            "[5 rows x 4984 columns]\n"
          ]
        }
      ],
      "source": [
        "print(products.tail())"
      ]
    },
    {
      "cell_type": "code",
      "execution_count": 23,
      "metadata": {
        "id": "W-qQ_b1z-e2Q"
      },
      "outputs": [],
      "source": [
        "# split dataset to train/test\n",
        "X, y = products.loc[:, ~products.columns.isin(['sentiment'])], products.loc[:, products.columns.isin(['sentiment'])]\n",
        "\n",
        "X_train, X_test, y_train, y_test = train_test_split(X, y, test_size=.3, random_state=1, stratify=y)"
      ]
    },
    {
      "cell_type": "markdown",
      "source": [
        "# Logistic Regression"
      ],
      "metadata": {
        "id": "J85HUyHPuJhu"
      }
    },
    {
      "cell_type": "code",
      "execution_count": 24,
      "metadata": {
        "id": "NHdHcDUx-e2R"
      },
      "outputs": [],
      "source": [
        "def predict_probability(X, W, b=0):\n",
        "    # Take dot product of feature_matrix and coefficients\n",
        "    score = np.dot(X, W)\n",
        "\n",
        "    # Compute P(y_i = +1 | x_i, w) using the link function\n",
        "    y_pred = 1. / (1.+np.exp(-score)) + b\n",
        "    return y_pred"
      ]
    },
    {
      "cell_type": "code",
      "execution_count": 25,
      "metadata": {
        "id": "0MlSXJeY-e2R"
      },
      "outputs": [],
      "source": [
        "def compute_avg_log_likelihood(feature_matrix, sentiment, coefficients):\n",
        "    indicator = (sentiment==+1)\n",
        "    scores = np.dot(feature_matrix, coefficients)\n",
        "    logexp = np.log(1. + np.exp(-scores))\n",
        "\n",
        "    # Simple check to prevent overflow\n",
        "    mask = np.isinf(logexp)\n",
        "    logexp[mask] = -scores[mask]\n",
        "\n",
        "    lp = np.sum((indicator-1)*scores - logexp)/len(feature_matrix)\n",
        "\n",
        "    return lp"
      ]
    },
    {
      "cell_type": "code",
      "execution_count": 26,
      "metadata": {
        "id": "UFfZc8uA-e2R"
      },
      "outputs": [],
      "source": [
        "# Helper function to update weights in gradient descent\n",
        "def update_weights(X, Y, W, b, learning_rate, log_likelihood):\n",
        "    # no_of_training_examples, no_of_features\n",
        "    num_features, num_examples = X.shape\n",
        "    # Make a prediction\n",
        "    y_pred = 1 / (1 + np.exp(-(X.dot(W) + b)))\n",
        "\n",
        "    dW = X.T.dot(Y-y_pred) / num_features\n",
        "    db = np.sum(Y-y_pred) / num_features\n",
        "\n",
        "    # update weights and bias\n",
        "    b = b + learning_rate * db\n",
        "    W = W + learning_rate * dW\n",
        "\n",
        "    # Compute log-likelihood\n",
        "    for i in range(len(W)):\n",
        "        #y_pred = 1 / (1 + np.exp(-(X[:,i].dot(W[i]) + b)))\n",
        "        #log_likelihood += compute_avg_log_likelihood(X[:,i], Y, W[i])\n",
        "        log_likelihood = compute_avg_log_likelihood(X[:,i], Y, W[i])\n",
        "\n",
        "    return W, b, log_likelihood"
      ]
    },
    {
      "cell_type": "code",
      "execution_count": 27,
      "metadata": {
        "id": "ncwIFYjH-e2R"
      },
      "outputs": [],
      "source": [
        "def predict(X, W, b):\n",
        "    Z = 1 / (1 + np.exp(- (X.dot(W) + b)))\n",
        "    Y = [-1 if z <= 0.5 else +1 for z in Z]\n",
        "    return Y\n",
        "\n",
        "def fit(X, Y, num_iterations, learning_rate):\n",
        "    # no_of_training_examples, no_of_features\n",
        "    num_features, num_examples = X.shape\n",
        "\n",
        "    # weight initialization\n",
        "    W = np.zeros(num_examples)\n",
        "    b = 0\n",
        "    log_likelihood=0\n",
        "    likelihood_history=[]\n",
        "\n",
        "    # gradient ascent learning\n",
        "    for i in range(num_iterations):\n",
        "        W, b, log_likelihood = update_weights(X, Y, W, b, learning_rate, log_likelihood)\n",
        "        likelihood_history.append(log_likelihood)\n",
        "    return W, b, likelihood_history"
      ]
    },
    {
      "cell_type": "code",
      "execution_count": 28,
      "metadata": {
        "colab": {
          "base_uri": "https://localhost:8080/",
          "height": 255
        },
        "id": "gp8nOS3i-e2R",
        "outputId": "381c9935-f992-4c2b-af65-3eb132db4b16"
      },
      "outputs": [
        {
          "output_type": "execute_result",
          "data": {
            "text/plain": [
              "     tfidf_word_count_tf_idf_word_count_0  \\\n",
              "220                                   0.0   \n",
              "112                                   0.0   \n",
              "222                                   0.0   \n",
              "174                                   0.0   \n",
              "167                                   0.0   \n",
              "\n",
              "     tfidf_word_count_tf_idf_word_count_1  \\\n",
              "220                              0.000000   \n",
              "112                              0.000000   \n",
              "222                              0.000000   \n",
              "174                              0.128339   \n",
              "167                              0.000000   \n",
              "\n",
              "     tfidf_word_count_tf_idf_word_count_2  \\\n",
              "220                                   0.0   \n",
              "112                                   0.0   \n",
              "222                                   0.0   \n",
              "174                                   0.0   \n",
              "167                                   0.0   \n",
              "\n",
              "     tfidf_word_count_tf_idf_word_count_3  \\\n",
              "220                                   0.0   \n",
              "112                                   0.0   \n",
              "222                                   0.0   \n",
              "174                                   0.0   \n",
              "167                                   0.0   \n",
              "\n",
              "     tfidf_word_count_tf_idf_word_count_4  \\\n",
              "220                                   0.0   \n",
              "112                                   0.0   \n",
              "222                                   0.0   \n",
              "174                                   0.0   \n",
              "167                                   0.0   \n",
              "\n",
              "     tfidf_word_count_tf_idf_word_count_5  \\\n",
              "220                                   0.0   \n",
              "112                                   0.0   \n",
              "222                                   0.0   \n",
              "174                                   0.0   \n",
              "167                                   0.0   \n",
              "\n",
              "     tfidf_word_count_tf_idf_word_count_6  \\\n",
              "220                                   0.0   \n",
              "112                                   0.0   \n",
              "222                                   0.0   \n",
              "174                                   0.0   \n",
              "167                                   0.0   \n",
              "\n",
              "     tfidf_word_count_tf_idf_word_count_7  \\\n",
              "220                                   0.0   \n",
              "112                                   0.0   \n",
              "222                                   0.0   \n",
              "174                                   0.0   \n",
              "167                                   0.0   \n",
              "\n",
              "     tfidf_word_count_tf_idf_word_count_8  \\\n",
              "220                              0.122545   \n",
              "112                              0.000000   \n",
              "222                              0.000000   \n",
              "174                              0.000000   \n",
              "167                              0.000000   \n",
              "\n",
              "     tfidf_word_count_tf_idf_word_count_9  ...  \\\n",
              "220                                   0.0  ...   \n",
              "112                                   0.0  ...   \n",
              "222                                   0.0  ...   \n",
              "174                                   0.0  ...   \n",
              "167                                   0.0  ...   \n",
              "\n",
              "     tfidf_word_count_tf_idf_word_count_2480  \\\n",
              "220                                      0.0   \n",
              "112                                      0.0   \n",
              "222                                      0.0   \n",
              "174                                      0.0   \n",
              "167                                      0.0   \n",
              "\n",
              "     tfidf_word_count_tf_idf_word_count_2481  \\\n",
              "220                                      0.0   \n",
              "112                                      0.0   \n",
              "222                                      0.0   \n",
              "174                                      0.0   \n",
              "167                                      0.0   \n",
              "\n",
              "     tfidf_word_count_tf_idf_word_count_2482  \\\n",
              "220                                      0.0   \n",
              "112                                      0.0   \n",
              "222                                      0.0   \n",
              "174                                      0.0   \n",
              "167                                      0.0   \n",
              "\n",
              "     tfidf_word_count_tf_idf_word_count_2483  \\\n",
              "220                                      0.0   \n",
              "112                                      0.0   \n",
              "222                                      0.0   \n",
              "174                                      0.0   \n",
              "167                                      0.0   \n",
              "\n",
              "     tfidf_word_count_tf_idf_word_count_2484  \\\n",
              "220                                      0.0   \n",
              "112                                      0.0   \n",
              "222                                      0.0   \n",
              "174                                      0.0   \n",
              "167                                      0.0   \n",
              "\n",
              "     tfidf_word_count_tf_idf_word_count_2485  \\\n",
              "220                                  0.11134   \n",
              "112                                  0.00000   \n",
              "222                                  0.00000   \n",
              "174                                  0.00000   \n",
              "167                                  0.00000   \n",
              "\n",
              "     tfidf_word_count_tf_idf_word_count_2486  \\\n",
              "220                                      0.0   \n",
              "112                                      0.0   \n",
              "222                                      0.0   \n",
              "174                                      0.0   \n",
              "167                                      0.0   \n",
              "\n",
              "     tfidf_word_count_tf_idf_word_count_2487  \\\n",
              "220                                      0.0   \n",
              "112                                      0.0   \n",
              "222                                      0.0   \n",
              "174                                      0.0   \n",
              "167                                      0.0   \n",
              "\n",
              "     tfidf_word_count_tf_idf_word_count_2488  \\\n",
              "220                                      0.0   \n",
              "112                                      0.0   \n",
              "222                                      0.0   \n",
              "174                                      0.0   \n",
              "167                                      0.0   \n",
              "\n",
              "     tfidf_word_count_tf_idf_word_count_2489  \n",
              "220                                      0.0  \n",
              "112                                      0.0  \n",
              "222                                      0.0  \n",
              "174                                      0.0  \n",
              "167                                      0.0  \n",
              "\n",
              "[5 rows x 2490 columns]"
            ],
            "text/html": [
              "\n",
              "  <div id=\"df-f40e6b87-b53c-4165-ab82-3d760922078e\" class=\"colab-df-container\">\n",
              "    <div>\n",
              "<style scoped>\n",
              "    .dataframe tbody tr th:only-of-type {\n",
              "        vertical-align: middle;\n",
              "    }\n",
              "\n",
              "    .dataframe tbody tr th {\n",
              "        vertical-align: top;\n",
              "    }\n",
              "\n",
              "    .dataframe thead th {\n",
              "        text-align: right;\n",
              "    }\n",
              "</style>\n",
              "<table border=\"1\" class=\"dataframe\">\n",
              "  <thead>\n",
              "    <tr style=\"text-align: right;\">\n",
              "      <th></th>\n",
              "      <th>tfidf_word_count_tf_idf_word_count_0</th>\n",
              "      <th>tfidf_word_count_tf_idf_word_count_1</th>\n",
              "      <th>tfidf_word_count_tf_idf_word_count_2</th>\n",
              "      <th>tfidf_word_count_tf_idf_word_count_3</th>\n",
              "      <th>tfidf_word_count_tf_idf_word_count_4</th>\n",
              "      <th>tfidf_word_count_tf_idf_word_count_5</th>\n",
              "      <th>tfidf_word_count_tf_idf_word_count_6</th>\n",
              "      <th>tfidf_word_count_tf_idf_word_count_7</th>\n",
              "      <th>tfidf_word_count_tf_idf_word_count_8</th>\n",
              "      <th>tfidf_word_count_tf_idf_word_count_9</th>\n",
              "      <th>...</th>\n",
              "      <th>tfidf_word_count_tf_idf_word_count_2480</th>\n",
              "      <th>tfidf_word_count_tf_idf_word_count_2481</th>\n",
              "      <th>tfidf_word_count_tf_idf_word_count_2482</th>\n",
              "      <th>tfidf_word_count_tf_idf_word_count_2483</th>\n",
              "      <th>tfidf_word_count_tf_idf_word_count_2484</th>\n",
              "      <th>tfidf_word_count_tf_idf_word_count_2485</th>\n",
              "      <th>tfidf_word_count_tf_idf_word_count_2486</th>\n",
              "      <th>tfidf_word_count_tf_idf_word_count_2487</th>\n",
              "      <th>tfidf_word_count_tf_idf_word_count_2488</th>\n",
              "      <th>tfidf_word_count_tf_idf_word_count_2489</th>\n",
              "    </tr>\n",
              "  </thead>\n",
              "  <tbody>\n",
              "    <tr>\n",
              "      <th>220</th>\n",
              "      <td>0.0</td>\n",
              "      <td>0.000000</td>\n",
              "      <td>0.0</td>\n",
              "      <td>0.0</td>\n",
              "      <td>0.0</td>\n",
              "      <td>0.0</td>\n",
              "      <td>0.0</td>\n",
              "      <td>0.0</td>\n",
              "      <td>0.122545</td>\n",
              "      <td>0.0</td>\n",
              "      <td>...</td>\n",
              "      <td>0.0</td>\n",
              "      <td>0.0</td>\n",
              "      <td>0.0</td>\n",
              "      <td>0.0</td>\n",
              "      <td>0.0</td>\n",
              "      <td>0.11134</td>\n",
              "      <td>0.0</td>\n",
              "      <td>0.0</td>\n",
              "      <td>0.0</td>\n",
              "      <td>0.0</td>\n",
              "    </tr>\n",
              "    <tr>\n",
              "      <th>112</th>\n",
              "      <td>0.0</td>\n",
              "      <td>0.000000</td>\n",
              "      <td>0.0</td>\n",
              "      <td>0.0</td>\n",
              "      <td>0.0</td>\n",
              "      <td>0.0</td>\n",
              "      <td>0.0</td>\n",
              "      <td>0.0</td>\n",
              "      <td>0.000000</td>\n",
              "      <td>0.0</td>\n",
              "      <td>...</td>\n",
              "      <td>0.0</td>\n",
              "      <td>0.0</td>\n",
              "      <td>0.0</td>\n",
              "      <td>0.0</td>\n",
              "      <td>0.0</td>\n",
              "      <td>0.00000</td>\n",
              "      <td>0.0</td>\n",
              "      <td>0.0</td>\n",
              "      <td>0.0</td>\n",
              "      <td>0.0</td>\n",
              "    </tr>\n",
              "    <tr>\n",
              "      <th>222</th>\n",
              "      <td>0.0</td>\n",
              "      <td>0.000000</td>\n",
              "      <td>0.0</td>\n",
              "      <td>0.0</td>\n",
              "      <td>0.0</td>\n",
              "      <td>0.0</td>\n",
              "      <td>0.0</td>\n",
              "      <td>0.0</td>\n",
              "      <td>0.000000</td>\n",
              "      <td>0.0</td>\n",
              "      <td>...</td>\n",
              "      <td>0.0</td>\n",
              "      <td>0.0</td>\n",
              "      <td>0.0</td>\n",
              "      <td>0.0</td>\n",
              "      <td>0.0</td>\n",
              "      <td>0.00000</td>\n",
              "      <td>0.0</td>\n",
              "      <td>0.0</td>\n",
              "      <td>0.0</td>\n",
              "      <td>0.0</td>\n",
              "    </tr>\n",
              "    <tr>\n",
              "      <th>174</th>\n",
              "      <td>0.0</td>\n",
              "      <td>0.128339</td>\n",
              "      <td>0.0</td>\n",
              "      <td>0.0</td>\n",
              "      <td>0.0</td>\n",
              "      <td>0.0</td>\n",
              "      <td>0.0</td>\n",
              "      <td>0.0</td>\n",
              "      <td>0.000000</td>\n",
              "      <td>0.0</td>\n",
              "      <td>...</td>\n",
              "      <td>0.0</td>\n",
              "      <td>0.0</td>\n",
              "      <td>0.0</td>\n",
              "      <td>0.0</td>\n",
              "      <td>0.0</td>\n",
              "      <td>0.00000</td>\n",
              "      <td>0.0</td>\n",
              "      <td>0.0</td>\n",
              "      <td>0.0</td>\n",
              "      <td>0.0</td>\n",
              "    </tr>\n",
              "    <tr>\n",
              "      <th>167</th>\n",
              "      <td>0.0</td>\n",
              "      <td>0.000000</td>\n",
              "      <td>0.0</td>\n",
              "      <td>0.0</td>\n",
              "      <td>0.0</td>\n",
              "      <td>0.0</td>\n",
              "      <td>0.0</td>\n",
              "      <td>0.0</td>\n",
              "      <td>0.000000</td>\n",
              "      <td>0.0</td>\n",
              "      <td>...</td>\n",
              "      <td>0.0</td>\n",
              "      <td>0.0</td>\n",
              "      <td>0.0</td>\n",
              "      <td>0.0</td>\n",
              "      <td>0.0</td>\n",
              "      <td>0.00000</td>\n",
              "      <td>0.0</td>\n",
              "      <td>0.0</td>\n",
              "      <td>0.0</td>\n",
              "      <td>0.0</td>\n",
              "    </tr>\n",
              "  </tbody>\n",
              "</table>\n",
              "<p>5 rows × 2490 columns</p>\n",
              "</div>\n",
              "    <div class=\"colab-df-buttons\">\n",
              "\n",
              "  <div class=\"colab-df-container\">\n",
              "    <button class=\"colab-df-convert\" onclick=\"convertToInteractive('df-f40e6b87-b53c-4165-ab82-3d760922078e')\"\n",
              "            title=\"Convert this dataframe to an interactive table.\"\n",
              "            style=\"display:none;\">\n",
              "\n",
              "  <svg xmlns=\"http://www.w3.org/2000/svg\" height=\"24px\" viewBox=\"0 -960 960 960\">\n",
              "    <path d=\"M120-120v-720h720v720H120Zm60-500h600v-160H180v160Zm220 220h160v-160H400v160Zm0 220h160v-160H400v160ZM180-400h160v-160H180v160Zm440 0h160v-160H620v160ZM180-180h160v-160H180v160Zm440 0h160v-160H620v160Z\"/>\n",
              "  </svg>\n",
              "    </button>\n",
              "\n",
              "  <style>\n",
              "    .colab-df-container {\n",
              "      display:flex;\n",
              "      gap: 12px;\n",
              "    }\n",
              "\n",
              "    .colab-df-convert {\n",
              "      background-color: #E8F0FE;\n",
              "      border: none;\n",
              "      border-radius: 50%;\n",
              "      cursor: pointer;\n",
              "      display: none;\n",
              "      fill: #1967D2;\n",
              "      height: 32px;\n",
              "      padding: 0 0 0 0;\n",
              "      width: 32px;\n",
              "    }\n",
              "\n",
              "    .colab-df-convert:hover {\n",
              "      background-color: #E2EBFA;\n",
              "      box-shadow: 0px 1px 2px rgba(60, 64, 67, 0.3), 0px 1px 3px 1px rgba(60, 64, 67, 0.15);\n",
              "      fill: #174EA6;\n",
              "    }\n",
              "\n",
              "    .colab-df-buttons div {\n",
              "      margin-bottom: 4px;\n",
              "    }\n",
              "\n",
              "    [theme=dark] .colab-df-convert {\n",
              "      background-color: #3B4455;\n",
              "      fill: #D2E3FC;\n",
              "    }\n",
              "\n",
              "    [theme=dark] .colab-df-convert:hover {\n",
              "      background-color: #434B5C;\n",
              "      box-shadow: 0px 1px 3px 1px rgba(0, 0, 0, 0.15);\n",
              "      filter: drop-shadow(0px 1px 2px rgba(0, 0, 0, 0.3));\n",
              "      fill: #FFFFFF;\n",
              "    }\n",
              "  </style>\n",
              "\n",
              "    <script>\n",
              "      const buttonEl =\n",
              "        document.querySelector('#df-f40e6b87-b53c-4165-ab82-3d760922078e button.colab-df-convert');\n",
              "      buttonEl.style.display =\n",
              "        google.colab.kernel.accessAllowed ? 'block' : 'none';\n",
              "\n",
              "      async function convertToInteractive(key) {\n",
              "        const element = document.querySelector('#df-f40e6b87-b53c-4165-ab82-3d760922078e');\n",
              "        const dataTable =\n",
              "          await google.colab.kernel.invokeFunction('convertToInteractive',\n",
              "                                                    [key], {});\n",
              "        if (!dataTable) return;\n",
              "\n",
              "        const docLinkHtml = 'Like what you see? Visit the ' +\n",
              "          '<a target=\"_blank\" href=https://colab.research.google.com/notebooks/data_table.ipynb>data table notebook</a>'\n",
              "          + ' to learn more about interactive tables.';\n",
              "        element.innerHTML = '';\n",
              "        dataTable['output_type'] = 'display_data';\n",
              "        await google.colab.output.renderOutput(dataTable, element);\n",
              "        const docLink = document.createElement('div');\n",
              "        docLink.innerHTML = docLinkHtml;\n",
              "        element.appendChild(docLink);\n",
              "      }\n",
              "    </script>\n",
              "  </div>\n",
              "\n",
              "\n",
              "<div id=\"df-ba0ce65d-058d-4e98-bd51-ac2e08d9583c\">\n",
              "  <button class=\"colab-df-quickchart\" onclick=\"quickchart('df-ba0ce65d-058d-4e98-bd51-ac2e08d9583c')\"\n",
              "            title=\"Suggest charts\"\n",
              "            style=\"display:none;\">\n",
              "\n",
              "<svg xmlns=\"http://www.w3.org/2000/svg\" height=\"24px\"viewBox=\"0 0 24 24\"\n",
              "     width=\"24px\">\n",
              "    <g>\n",
              "        <path d=\"M19 3H5c-1.1 0-2 .9-2 2v14c0 1.1.9 2 2 2h14c1.1 0 2-.9 2-2V5c0-1.1-.9-2-2-2zM9 17H7v-7h2v7zm4 0h-2V7h2v10zm4 0h-2v-4h2v4z\"/>\n",
              "    </g>\n",
              "</svg>\n",
              "  </button>\n",
              "\n",
              "<style>\n",
              "  .colab-df-quickchart {\n",
              "      --bg-color: #E8F0FE;\n",
              "      --fill-color: #1967D2;\n",
              "      --hover-bg-color: #E2EBFA;\n",
              "      --hover-fill-color: #174EA6;\n",
              "      --disabled-fill-color: #AAA;\n",
              "      --disabled-bg-color: #DDD;\n",
              "  }\n",
              "\n",
              "  [theme=dark] .colab-df-quickchart {\n",
              "      --bg-color: #3B4455;\n",
              "      --fill-color: #D2E3FC;\n",
              "      --hover-bg-color: #434B5C;\n",
              "      --hover-fill-color: #FFFFFF;\n",
              "      --disabled-bg-color: #3B4455;\n",
              "      --disabled-fill-color: #666;\n",
              "  }\n",
              "\n",
              "  .colab-df-quickchart {\n",
              "    background-color: var(--bg-color);\n",
              "    border: none;\n",
              "    border-radius: 50%;\n",
              "    cursor: pointer;\n",
              "    display: none;\n",
              "    fill: var(--fill-color);\n",
              "    height: 32px;\n",
              "    padding: 0;\n",
              "    width: 32px;\n",
              "  }\n",
              "\n",
              "  .colab-df-quickchart:hover {\n",
              "    background-color: var(--hover-bg-color);\n",
              "    box-shadow: 0 1px 2px rgba(60, 64, 67, 0.3), 0 1px 3px 1px rgba(60, 64, 67, 0.15);\n",
              "    fill: var(--button-hover-fill-color);\n",
              "  }\n",
              "\n",
              "  .colab-df-quickchart-complete:disabled,\n",
              "  .colab-df-quickchart-complete:disabled:hover {\n",
              "    background-color: var(--disabled-bg-color);\n",
              "    fill: var(--disabled-fill-color);\n",
              "    box-shadow: none;\n",
              "  }\n",
              "\n",
              "  .colab-df-spinner {\n",
              "    border: 2px solid var(--fill-color);\n",
              "    border-color: transparent;\n",
              "    border-bottom-color: var(--fill-color);\n",
              "    animation:\n",
              "      spin 1s steps(1) infinite;\n",
              "  }\n",
              "\n",
              "  @keyframes spin {\n",
              "    0% {\n",
              "      border-color: transparent;\n",
              "      border-bottom-color: var(--fill-color);\n",
              "      border-left-color: var(--fill-color);\n",
              "    }\n",
              "    20% {\n",
              "      border-color: transparent;\n",
              "      border-left-color: var(--fill-color);\n",
              "      border-top-color: var(--fill-color);\n",
              "    }\n",
              "    30% {\n",
              "      border-color: transparent;\n",
              "      border-left-color: var(--fill-color);\n",
              "      border-top-color: var(--fill-color);\n",
              "      border-right-color: var(--fill-color);\n",
              "    }\n",
              "    40% {\n",
              "      border-color: transparent;\n",
              "      border-right-color: var(--fill-color);\n",
              "      border-top-color: var(--fill-color);\n",
              "    }\n",
              "    60% {\n",
              "      border-color: transparent;\n",
              "      border-right-color: var(--fill-color);\n",
              "    }\n",
              "    80% {\n",
              "      border-color: transparent;\n",
              "      border-right-color: var(--fill-color);\n",
              "      border-bottom-color: var(--fill-color);\n",
              "    }\n",
              "    90% {\n",
              "      border-color: transparent;\n",
              "      border-bottom-color: var(--fill-color);\n",
              "    }\n",
              "  }\n",
              "</style>\n",
              "\n",
              "  <script>\n",
              "    async function quickchart(key) {\n",
              "      const quickchartButtonEl =\n",
              "        document.querySelector('#' + key + ' button');\n",
              "      quickchartButtonEl.disabled = true;  // To prevent multiple clicks.\n",
              "      quickchartButtonEl.classList.add('colab-df-spinner');\n",
              "      try {\n",
              "        const charts = await google.colab.kernel.invokeFunction(\n",
              "            'suggestCharts', [key], {});\n",
              "      } catch (error) {\n",
              "        console.error('Error during call to suggestCharts:', error);\n",
              "      }\n",
              "      quickchartButtonEl.classList.remove('colab-df-spinner');\n",
              "      quickchartButtonEl.classList.add('colab-df-quickchart-complete');\n",
              "    }\n",
              "    (() => {\n",
              "      let quickchartButtonEl =\n",
              "        document.querySelector('#df-ba0ce65d-058d-4e98-bd51-ac2e08d9583c button');\n",
              "      quickchartButtonEl.style.display =\n",
              "        google.colab.kernel.accessAllowed ? 'block' : 'none';\n",
              "    })();\n",
              "  </script>\n",
              "</div>\n",
              "    </div>\n",
              "  </div>\n"
            ],
            "application/vnd.google.colaboratory.intrinsic+json": {
              "type": "dataframe",
              "variable_name": "X_train_sentiment"
            }
          },
          "metadata": {},
          "execution_count": 28
        }
      ],
      "source": [
        "# Word count\n",
        "if(feature_encoding=='word_count_'):\n",
        "    X_train_sentiment = X_train.loc[:,X_train.columns.str.startswith('word_count_')]\n",
        "    X_test_sentiment = X_test.loc[:,X_test.columns.str.startswith('word_count_')]\n",
        "\n",
        "# TF-IDF\n",
        "if(feature_encoding=='tfidf_word_count_'):\n",
        "    X_train_sentiment = X_train.loc[:,X_train.columns.str.startswith('tfidf_word_count_')]\n",
        "    X_test_sentiment = X_test.loc[:,X_test.columns.str.startswith('tfidf_word_count_')]\n",
        "X_train_sentiment.head()"
      ]
    },
    {
      "cell_type": "code",
      "execution_count": 29,
      "metadata": {
        "id": "4vZYT9RO-e2R"
      },
      "outputs": [],
      "source": [
        "# Hyper-parameters\n",
        "learning_rate=0.0001\n",
        "num_iterations=100\n",
        "\n",
        "sentiment_model_weights, sentiment_model_bias, likelihood_history = fit(X_train_sentiment.to_numpy(), np.ravel(y_train), num_iterations, learning_rate)"
      ]
    },
    {
      "cell_type": "code",
      "execution_count": 30,
      "metadata": {
        "colab": {
          "base_uri": "https://localhost:8080/"
        },
        "id": "x-3Kh2Sj-e2R",
        "outputId": "7251380e-bf4b-4110-da3f-1214105ad69e"
      },
      "outputs": [
        {
          "output_type": "execute_result",
          "data": {
            "text/plain": [
              "['negative',\n",
              " 'negative',\n",
              " 'negative',\n",
              " 'negative',\n",
              " 'negative',\n",
              " 'negative',\n",
              " 'negative',\n",
              " 'negative',\n",
              " 'negative',\n",
              " 'negative']"
            ]
          },
          "metadata": {},
          "execution_count": 30
        }
      ],
      "source": [
        "review_idx=10\n",
        "sentiment = predict(X_test_sentiment[:review_idx], sentiment_model_weights, sentiment_model_bias)\n",
        "sentiment = ['positive' if i==1 else 'negative' for i in sentiment]\n",
        "sentiment"
      ]
    },
    {
      "cell_type": "code",
      "execution_count": 31,
      "metadata": {
        "colab": {
          "base_uri": "https://localhost:8080/"
        },
        "id": "lEqKRkGQ-e2R",
        "outputId": "034e27c1-debf-423d-dbcc-f17e5b4c6183"
      },
      "outputs": [
        {
          "output_type": "execute_result",
          "data": {
            "text/plain": [
              "[-1, -1]"
            ]
          },
          "metadata": {},
          "execution_count": 31
        }
      ],
      "source": [
        "sentiment = predict(X_test_sentiment[:2], sentiment_model_weights, sentiment_model_bias)\n",
        "sentiment"
      ]
    },
    {
      "cell_type": "code",
      "execution_count": 32,
      "metadata": {
        "colab": {
          "base_uri": "https://localhost:8080/"
        },
        "id": "G9u8zIbR-e2S",
        "outputId": "0a436787-b18a-4175-bac8-5386d9d6c888"
      },
      "outputs": [
        {
          "output_type": "stream",
          "name": "stdout",
          "text": [
            "0    Im a retired physician and of all the meds I h...\n",
            "1    cleared me right up even with my throat hurtin...\n",
            "Name: Reviews, dtype: object\n",
            "0    1\n",
            "1    1\n",
            "Name: sentiment, dtype: int64\n"
          ]
        }
      ],
      "source": [
        "print(products['Reviews'][:2])\n",
        "print(products['sentiment'][:2])"
      ]
    },
    {
      "cell_type": "code",
      "execution_count": 33,
      "metadata": {
        "colab": {
          "base_uri": "https://localhost:8080/"
        },
        "id": "c1ySjxvb-e2S",
        "outputId": "8af896c2-323f-4e95-915a-062d71a1e410"
      },
      "outputs": [
        {
          "output_type": "stream",
          "name": "stdout",
          "text": [
            "[ 2.76112571e-05 -3.42898092e-05  0.00000000e+00 ...  0.00000000e+00\n",
            "  5.59136998e-06 -1.50181310e-05]\n",
            "-0.0035818271711115152\n"
          ]
        }
      ],
      "source": [
        "print(sentiment_model_weights)\n",
        "print(sentiment_model_bias)"
      ]
    },
    {
      "cell_type": "code",
      "execution_count": 34,
      "metadata": {
        "colab": {
          "base_uri": "https://localhost:8080/"
        },
        "id": "RGzCmLsP-e2S",
        "outputId": "3c49ab73-d35b-40ba-c0a2-e70f9a65a44d"
      },
      "outputs": [
        {
          "output_type": "stream",
          "name": "stdout",
          "text": [
            "Number of positive weights: 1580 \n",
            "Number of negative weights: 910 \n"
          ]
        }
      ],
      "source": [
        "num_positive_weights = np.sum(sentiment_model_weights >= 0)\n",
        "num_negative_weights = np.sum(sentiment_model_weights < 0)\n",
        "\n",
        "print(\"Number of positive weights: %s \" % num_positive_weights)\n",
        "print(\"Number of negative weights: %s \" % num_negative_weights)"
      ]
    },
    {
      "cell_type": "code",
      "execution_count": 35,
      "metadata": {
        "id": "xJyjF8Gk-e2S"
      },
      "outputs": [],
      "source": [
        "# Accuracy\n",
        "\n",
        "def get_classification_accuracy(prediction_labels, true_labels):\n",
        "    # Compute the number of correctly classified examples\n",
        "    num_correct = np.sum(prediction_labels == true_labels)\n",
        "\n",
        "    # Then compute accuracy by dividing num_correct by total number of examples\n",
        "    accuracy = num_correct / len(true_labels)\n",
        "    return accuracy"
      ]
    },
    {
      "cell_type": "code",
      "execution_count": 36,
      "metadata": {
        "colab": {
          "base_uri": "https://localhost:8080/"
        },
        "id": "7hBOQXRl-e2S",
        "outputId": "9cceab8c-3b0c-4327-c8ef-be0f74c9251f"
      },
      "outputs": [
        {
          "output_type": "stream",
          "name": "stdout",
          "text": [
            "0.4293193717277487\n"
          ]
        }
      ],
      "source": [
        "accuracy = get_classification_accuracy(predict(X_train_sentiment.to_numpy(), sentiment_model_weights, sentiment_model_bias),\n",
        "                                       np.ravel(y_train))\n",
        "print(accuracy)"
      ]
    },
    {
      "cell_type": "code",
      "execution_count": 37,
      "metadata": {
        "colab": {
          "base_uri": "https://localhost:8080/"
        },
        "id": "lm2JnLZ5-e2S",
        "outputId": "25b19add-f67a-4094-b649-539a4be2d23d"
      },
      "outputs": [
        {
          "output_type": "stream",
          "name": "stdout",
          "text": [
            "0.42168674698795183\n"
          ]
        }
      ],
      "source": [
        "accuracy = get_classification_accuracy(predict(X_test_sentiment.to_numpy(), sentiment_model_weights, sentiment_model_bias),\n",
        "                                       np.ravel(y_test))\n",
        "print(accuracy)"
      ]
    },
    {
      "cell_type": "code",
      "execution_count": 38,
      "metadata": {
        "colab": {
          "base_uri": "https://localhost:8080/"
        },
        "id": "CtnZLrFZ-e2S",
        "outputId": "710483cc-b0a9-4bb5-ce62-0038973b56ec"
      },
      "outputs": [
        {
          "output_type": "execute_result",
          "data": {
            "text/plain": [
              "100"
            ]
          },
          "metadata": {},
          "execution_count": 38
        }
      ],
      "source": [
        "len(likelihood_history)"
      ]
    },
    {
      "cell_type": "code",
      "execution_count": 39,
      "metadata": {
        "colab": {
          "base_uri": "https://localhost:8080/",
          "height": 487
        },
        "id": "ge7PcIRV-e2T",
        "outputId": "188bc5c1-ebe8-41b2-faaf-5d601c25b863"
      },
      "outputs": [
        {
          "output_type": "display_data",
          "data": {
            "text/plain": [
              "<Figure size 640x480 with 1 Axes>"
            ],
            "image/png": "[encoded data removed]"
          },
          "metadata": {}
        }
      ],
      "source": [
        "plt.scatter(np.arange(0,len(likelihood_history),1), likelihood_history, color = 'blue')\n",
        "plt.title('Log Likelihood vs Training Iteration')\n",
        "plt.xlabel('Training Iterations')\n",
        "plt.ylabel('Log Likelihood')\n",
        "plt.show()"
      ]
    },
    {
      "cell_type": "code",
      "execution_count": 40,
      "metadata": {
        "id": "7BELXOWC-e2T"
      },
      "outputs": [],
      "source": [
        "# effect of the learning rate\n",
        "def plot_series(data, x_title, y_title, para1, para2, legend_label='iteration '):\n",
        "    colors = mcolors.TABLEAU_COLORS\n",
        "\n",
        "    # Sort colors by hue, saturation, value and name.\n",
        "    names = sorted(\n",
        "        colors, key=lambda c: tuple(mcolors.rgb_to_hsv(mcolors.to_rgb(c))))\n",
        "    # Plot cost of training iterations\n",
        "    j=0\n",
        "    for i in range(para1,len(data),para2):\n",
        "        plt.plot(np.arange(0,len(data[i]),1), data[i], color = names[j], label=legend_label+str(i))\n",
        "        if(j>=len(names)-1):\n",
        "            j=0\n",
        "        else:\n",
        "            j+=1\n",
        "    plt.title(y_title+' vs '+x_title+' Iteration')\n",
        "    plt.xlabel(x_title)\n",
        "    plt.ylabel(y_title)\n",
        "    plt.legend()\n",
        "    plt.show()"
      ]
    },
    {
      "cell_type": "code",
      "execution_count": 41,
      "metadata": {
        "id": "KPChSofn-e2W"
      },
      "outputs": [],
      "source": [
        "# Hyper-parameters\n",
        "learning_rate=0.00001\n",
        "num_iterations=100"
      ]
    },
    {
      "cell_type": "code",
      "execution_count": 42,
      "metadata": {
        "id": "FQu_Iour-e2W"
      },
      "outputs": [],
      "source": [
        "weights_list=[]\n",
        "likelihood_history = []\n",
        "for lr in range(1,50,1):\n",
        "    learning_rate=lr/100000\n",
        "    weights, bias, log_lik = fit(X_train_sentiment.to_numpy(), np.ravel(y_train), num_iterations, learning_rate)\n",
        "    likelihood_history.append(log_lik)"
      ]
    },
    {
      "cell_type": "code",
      "execution_count": 43,
      "metadata": {
        "colab": {
          "base_uri": "https://localhost:8080/"
        },
        "id": "ECub4L6a-e2X",
        "outputId": "0ab421dc-f07c-4e4b-c9d9-2fb9b4b17584"
      },
      "outputs": [
        {
          "data": {
            "text/plain": [
              "100"
            ]
          },
          "execution_count": 43,
          "metadata": {},
          "output_type": "execute_result"
        }
      ],
      "source": [
        "len(likelihood_history[0])"
      ]
    },
    {
      "cell_type": "code",
      "execution_count": 44,
      "metadata": {
        "colab": {
          "base_uri": "https://localhost:8080/",
          "height": 487
        },
        "id": "oiucS3U6-e2X",
        "outputId": "38698795-e867-4e1f-b62b-210252612f3f"
      },
      "outputs": [
        {
          "output_type": "display_data",
          "data": {
            "text/plain": [
              "<Figure size 640x480 with 1 Axes>"
            ],
            "image/png": "[encoded data removed]"
          },
          "metadata": {}
        }
      ],
      "source": [
        "plot_series(likelihood_history, 'Training Iteration', 'Log Likelihood', 0, 10, legend_label='lr-')"
      ]
    },
    {
      "cell_type": "code",
      "execution_count": 45,
      "metadata": {
        "colab": {
          "base_uri": "https://localhost:8080/"
        },
        "id": "BTQa_eXO-e2X",
        "outputId": "7eb03163-c0eb-4c8e-f7ab-dfc018136628"
      },
      "outputs": [
        {
          "output_type": "stream",
          "name": "stdout",
          "text": [
            "[29 82 30 11 27 12 46 60 66 31 69 13 49  4  1 25 62 68 47 22]\n",
            "                                               Reviews  Satisfaction  \\\n",
            "39   I have experienced very heavy and long periods...           1.0   \n",
            "176  I have had crippling Anxiety related to PTSD I...           2.0   \n",
            "193  In my 12th month of Post shingles pain  Doesnt...           2.0   \n",
            "50   hi my name is lara and im 18 years old and i w...           1.0   \n",
            "192  I am 50 yrs old and have suffered from lower b...           5.0   \n",
            "30   I am currently taking Lysteda but can only tak...           4.0   \n",
            "223  I have severe neuropathy from Diabetes in my f...           1.0   \n",
            "238  The pain from my peripheral neuropathy was so ...           5.0   \n",
            "260  I have read most of the comments and hardly an...           5.0   \n",
            "19   I took this pill for a month It was so awful t...           1.0   \n",
            "194  Taking this drug I was unable to focus My pain...           1.0   \n",
            "217  Dr started me on Lyrica for pain from Shingles...           5.0   \n",
            "233  I have spinal stenosis and all of a sudden my ...           5.0   \n",
            "243  This medication had extreme side effects so se...           1.0   \n",
            "20   My OBGYN placed me on this pill because I was ...           4.0   \n",
            "171  After being on Lyrica pregabalin for over two ...           1.0   \n",
            "255  I have taken this drug on and off for the past...           1.0   \n",
            "98   I took Lysteda for the first time this month S...           5.0   \n",
            "208  I was given Lyrica for nerve pain after i had ...           1.0   \n",
            "240  I started taking Lyrica for nerve pain I had s...           4.0   \n",
            "\n",
            "       DrugId  tf_idf_word_count_0  tf_idf_word_count_1  tf_idf_word_count_2  \\\n",
            "39   154120.0             0.000000                  0.0             0.000000   \n",
            "176   93965.0             0.000000                  0.0             0.000000   \n",
            "193   93965.0             0.000000                  0.0             0.000000   \n",
            "50   154120.0             0.000000                  0.0             0.000000   \n",
            "192   93965.0             0.000000                  0.0             0.150191   \n",
            "30   154120.0             0.000000                  0.0             0.000000   \n",
            "223   93965.0             0.000000                  0.0             0.000000   \n",
            "238   93965.0             0.000000                  0.0             0.000000   \n",
            "260   93965.0             0.000000                  0.0             0.000000   \n",
            "19   164750.0             0.145888                  0.0             0.000000   \n",
            "194   93965.0             0.000000                  0.0             0.000000   \n",
            "217   93965.0             0.000000                  0.0             0.000000   \n",
            "233   93965.0             0.000000                  0.0             0.000000   \n",
            "243   93965.0             0.000000                  0.0             0.000000   \n",
            "20   164750.0             0.000000                  0.0             0.000000   \n",
            "171   93965.0             0.000000                  0.0             0.000000   \n",
            "255   93965.0             0.174199                  0.0             0.000000   \n",
            "98   154120.0             0.000000                  0.0             0.000000   \n",
            "208   93965.0             0.000000                  0.0             0.000000   \n",
            "240   93965.0             0.000000                  0.0             0.000000   \n",
            "\n",
            "     tf_idf_word_count_3  tf_idf_word_count_4  tf_idf_word_count_5  \\\n",
            "39                   0.0                  0.0                  0.0   \n",
            "176                  0.0                  0.0                  0.0   \n",
            "193                  0.0                  0.0                  0.0   \n",
            "50                   0.0                  0.0                  0.0   \n",
            "192                  0.0                  0.0                  0.0   \n",
            "30                   0.0                  0.0                  0.0   \n",
            "223                  0.0                  0.0                  0.0   \n",
            "238                  0.0                  0.0                  0.0   \n",
            "260                  0.0                  0.0                  0.0   \n",
            "19                   0.0                  0.0                  0.0   \n",
            "194                  0.0                  0.0                  0.0   \n",
            "217                  0.0                  0.0                  0.0   \n",
            "233                  0.0                  0.0                  0.0   \n",
            "243                  0.0                  0.0                  0.0   \n",
            "20                   0.0                  0.0                  0.0   \n",
            "171                  0.0                  0.0                  0.0   \n",
            "255                  0.0                  0.0                  0.0   \n",
            "98                   0.0                  0.0                  0.0   \n",
            "208                  0.0                  0.0                  0.0   \n",
            "240                  0.0                  0.0                  0.0   \n",
            "\n",
            "     tf_idf_word_count_6  ...  tfidf_word_count_tf_idf_word_count_2480  \\\n",
            "39                   0.0  ...                                      0.0   \n",
            "176                  0.0  ...                                      0.0   \n",
            "193                  0.0  ...                                      0.0   \n",
            "50                   0.0  ...                                      0.0   \n",
            "192                  0.0  ...                                      0.0   \n",
            "30                   0.0  ...                                      0.0   \n",
            "223                  0.0  ...                                      0.0   \n",
            "238                  0.0  ...                                      0.0   \n",
            "260                  0.0  ...                                      0.0   \n",
            "19                   0.0  ...                                      0.0   \n",
            "194                  0.0  ...                                      0.0   \n",
            "217                  0.0  ...                                      0.0   \n",
            "233                  0.0  ...                                      0.0   \n",
            "243                  0.0  ...                                      0.0   \n",
            "20                   0.0  ...                                      0.0   \n",
            "171                  0.0  ...                                      0.0   \n",
            "255                  0.0  ...                                      0.0   \n",
            "98                   0.0  ...                                      0.0   \n",
            "208                  0.0  ...                                      0.0   \n",
            "240                  0.0  ...                                      0.0   \n",
            "\n",
            "     tfidf_word_count_tf_idf_word_count_2481  \\\n",
            "39                                       0.0   \n",
            "176                                      0.0   \n",
            "193                                      0.0   \n",
            "50                                       0.0   \n",
            "192                                      0.0   \n",
            "30                                       0.0   \n",
            "223                                      0.0   \n",
            "238                                      0.0   \n",
            "260                                      0.0   \n",
            "19                                       0.0   \n",
            "194                                      0.0   \n",
            "217                                      0.0   \n",
            "233                                      0.0   \n",
            "243                                      0.0   \n",
            "20                                       0.0   \n",
            "171                                      0.0   \n",
            "255                                      0.0   \n",
            "98                                       0.0   \n",
            "208                                      0.0   \n",
            "240                                      0.0   \n",
            "\n",
            "     tfidf_word_count_tf_idf_word_count_2482  \\\n",
            "39                                       0.0   \n",
            "176                                      0.0   \n",
            "193                                      0.0   \n",
            "50                                       0.0   \n",
            "192                                      0.0   \n",
            "30                                       0.0   \n",
            "223                                      0.0   \n",
            "238                                      0.0   \n",
            "260                                      0.0   \n",
            "19                                       0.0   \n",
            "194                                      0.0   \n",
            "217                                      0.0   \n",
            "233                                      0.0   \n",
            "243                                      0.0   \n",
            "20                                       0.0   \n",
            "171                                      0.0   \n",
            "255                                      0.0   \n",
            "98                                       0.0   \n",
            "208                                      0.0   \n",
            "240                                      0.0   \n",
            "\n",
            "     tfidf_word_count_tf_idf_word_count_2483  \\\n",
            "39                                       0.0   \n",
            "176                                      0.0   \n",
            "193                                      0.0   \n",
            "50                                       0.0   \n",
            "192                                      0.0   \n",
            "30                                       0.0   \n",
            "223                                      0.0   \n",
            "238                                      0.0   \n",
            "260                                      0.0   \n",
            "19                                       0.0   \n",
            "194                                      0.0   \n",
            "217                                      0.0   \n",
            "233                                      0.0   \n",
            "243                                      0.0   \n",
            "20                                       0.0   \n",
            "171                                      0.0   \n",
            "255                                      0.0   \n",
            "98                                       0.0   \n",
            "208                                      0.0   \n",
            "240                                      0.0   \n",
            "\n",
            "     tfidf_word_count_tf_idf_word_count_2484  \\\n",
            "39                                       0.0   \n",
            "176                                      0.0   \n",
            "193                                      0.0   \n",
            "50                                       0.0   \n",
            "192                                      0.0   \n",
            "30                                       0.0   \n",
            "223                                      0.0   \n",
            "238                                      0.0   \n",
            "260                                      0.0   \n",
            "19                                       0.0   \n",
            "194                                      0.0   \n",
            "217                                      0.0   \n",
            "233                                      0.0   \n",
            "243                                      0.0   \n",
            "20                                       0.0   \n",
            "171                                      0.0   \n",
            "255                                      0.0   \n",
            "98                                       0.0   \n",
            "208                                      0.0   \n",
            "240                                      0.0   \n",
            "\n",
            "     tfidf_word_count_tf_idf_word_count_2485  \\\n",
            "39                                  0.000000   \n",
            "176                                 0.000000   \n",
            "193                                 0.000000   \n",
            "50                                  0.000000   \n",
            "192                                 0.372365   \n",
            "30                                  0.000000   \n",
            "223                                 0.000000   \n",
            "238                                 0.000000   \n",
            "260                                 0.000000   \n",
            "19                                  0.000000   \n",
            "194                                 0.000000   \n",
            "217                                 0.000000   \n",
            "233                                 0.000000   \n",
            "243                                 0.000000   \n",
            "20                                  0.000000   \n",
            "171                                 0.000000   \n",
            "255                                 0.000000   \n",
            "98                                  0.000000   \n",
            "208                                 0.000000   \n",
            "240                                 0.000000   \n",
            "\n",
            "     tfidf_word_count_tf_idf_word_count_2486  \\\n",
            "39                                       0.0   \n",
            "176                                      0.0   \n",
            "193                                      0.0   \n",
            "50                                       0.0   \n",
            "192                                      0.0   \n",
            "30                                       0.0   \n",
            "223                                      0.0   \n",
            "238                                      0.0   \n",
            "260                                      0.0   \n",
            "19                                       0.0   \n",
            "194                                      0.0   \n",
            "217                                      0.0   \n",
            "233                                      0.0   \n",
            "243                                      0.0   \n",
            "20                                       0.0   \n",
            "171                                      0.0   \n",
            "255                                      0.0   \n",
            "98                                       0.0   \n",
            "208                                      0.0   \n",
            "240                                      0.0   \n",
            "\n",
            "     tfidf_word_count_tf_idf_word_count_2487  \\\n",
            "39                                       0.0   \n",
            "176                                      0.0   \n",
            "193                                      0.0   \n",
            "50                                       0.0   \n",
            "192                                      0.0   \n",
            "30                                       0.0   \n",
            "223                                      0.0   \n",
            "238                                      0.0   \n",
            "260                                      0.0   \n",
            "19                                       0.0   \n",
            "194                                      0.0   \n",
            "217                                      0.0   \n",
            "233                                      0.0   \n",
            "243                                      0.0   \n",
            "20                                       0.0   \n",
            "171                                      0.0   \n",
            "255                                      0.0   \n",
            "98                                       0.0   \n",
            "208                                      0.0   \n",
            "240                                      0.0   \n",
            "\n",
            "     tfidf_word_count_tf_idf_word_count_2488  \\\n",
            "39                                       0.0   \n",
            "176                                      0.0   \n",
            "193                                      0.0   \n",
            "50                                       0.0   \n",
            "192                                      0.0   \n",
            "30                                       0.0   \n",
            "223                                      0.0   \n",
            "238                                      0.0   \n",
            "260                                      0.0   \n",
            "19                                       0.0   \n",
            "194                                      0.0   \n",
            "217                                      0.0   \n",
            "233                                      0.0   \n",
            "243                                      0.0   \n",
            "20                                       0.0   \n",
            "171                                      0.0   \n",
            "255                                      0.0   \n",
            "98                                       0.0   \n",
            "208                                      0.0   \n",
            "240                                      0.0   \n",
            "\n",
            "     tfidf_word_count_tf_idf_word_count_2489  \n",
            "39                                       0.0  \n",
            "176                                      0.0  \n",
            "193                                      0.0  \n",
            "50                                       0.0  \n",
            "192                                      0.0  \n",
            "30                                       0.0  \n",
            "223                                      0.0  \n",
            "238                                      0.0  \n",
            "260                                      0.0  \n",
            "19                                       0.0  \n",
            "194                                      0.0  \n",
            "217                                      0.0  \n",
            "233                                      0.0  \n",
            "243                                      0.0  \n",
            "20                                       0.0  \n",
            "171                                      0.0  \n",
            "255                                      0.0  \n",
            "98                                       0.0  \n",
            "208                                      0.0  \n",
            "240                                      0.0  \n",
            "\n",
            "[20 rows x 4983 columns]\n"
          ]
        }
      ],
      "source": [
        "# most positive or negative review\n",
        "\n",
        "# Calculate the class probabilities for the test set\n",
        "y_prob = predict_probability(X_test_sentiment.to_numpy(), sentiment_model_weights, b=sentiment_model_bias)\n",
        "\n",
        "# Sort the test set in descending order of their probabilities of being positive\n",
        "idx = np.argsort(-y_prob)\n",
        "\n",
        "# Get the indices of the 20 most positive reviews\n",
        "idx_most_positive = idx[-20:]\n",
        "print(idx_most_positive)\n",
        "\n",
        "# Get the corresponding reviews from the test set\n",
        "most_positive_reviews = X_test.iloc[idx_most_positive]\n",
        "print(most_positive_reviews)"
      ]
    },
    {
      "cell_type": "code",
      "execution_count": 46,
      "metadata": {
        "colab": {
          "base_uri": "https://localhost:8080/"
        },
        "id": "qzkkDi1h-e2X",
        "outputId": "103db527-73a8-4228-eff9-82fbc9c5bcfd"
      },
      "outputs": [
        {
          "output_type": "stream",
          "name": "stdout",
          "text": [
            "                                               Reviews  Satisfaction  \\\n",
            "100  This medicine has been available in Sweden as ...           5.0   \n",
            "79   I have been taking Lysteda for 9 months and it...           5.0   \n",
            "188                                                              4.0   \n",
            "34                                                               4.0   \n",
            "27                                                               1.0   \n",
            "150  This medication has been more than wonderful f...           5.0   \n",
            "183  stupid medicine in worldif you take this medic...           1.0   \n",
            "244  Finally the elusive magic pill No pain anymore...           5.0   \n",
            "95   I get boils and if I take a Lysine per day the...           5.0   \n",
            "136                       the headaches are unbearable           1.0   \n",
            "216  httpmedcureusaorgclinicalresearchfindsneuronti...           2.0   \n",
            "263  Used for pain from pudendal neuropathy  First ...           5.0   \n",
            "55   I am a 43 year old African American female and...           2.0   \n",
            "178  Started acting strangelyweight gainhallucinati...           1.0   \n",
            "157  Very effective in reducing the amount of bleed...           5.0   \n",
            "155  This is amazing  My doctor has really been try...           4.0   \n",
            "235  Seriously affects my ability to communicate ef...           4.0   \n",
            "25   After losing 25 lbs over the last two years I ...           2.0   \n",
            "3    My grandfather was prescribed this medication ...           1.0   \n",
            "53   My periods were excrutiatingly heavy and painf...           5.0   \n",
            "\n",
            "       DrugId  tf_idf_word_count_0  tf_idf_word_count_1  tf_idf_word_count_2  \\\n",
            "100  154120.0                  0.0                  0.0                  0.0   \n",
            "79   154120.0                  0.0                  0.0                  0.0   \n",
            "188   93965.0                  0.0                  0.0                  0.0   \n",
            "34   170586.0                  0.0                  0.0                  0.0   \n",
            "27   149297.0                  0.0                  0.0                  0.0   \n",
            "150  154120.0                  0.0                  0.0                  0.0   \n",
            "183   93965.0                  0.0                  0.0                  0.0   \n",
            "244   93965.0                  0.0                  0.0                  0.0   \n",
            "95   163405.0                  0.0                  0.0                  0.0   \n",
            "136  154120.0                  0.0                  0.0                  0.0   \n",
            "216   93965.0                  0.0                  0.0                  0.0   \n",
            "263   93965.0                  0.0                  0.0                  0.0   \n",
            "55   154120.0                  0.0                  0.0                  0.0   \n",
            "178   93965.0                  0.0                  0.0                  0.0   \n",
            "157  154120.0                  0.0                  0.0                  0.0   \n",
            "155  154120.0                  0.0                  0.0                  0.0   \n",
            "235   93965.0                  0.0                  0.0                  0.0   \n",
            "25   164750.0                  0.0                  0.0                  0.0   \n",
            "3    144731.0                  0.0                  0.0                  0.0   \n",
            "53   154120.0                  0.0                  0.0                  0.0   \n",
            "\n",
            "     tf_idf_word_count_3  tf_idf_word_count_4  tf_idf_word_count_5  \\\n",
            "100                  0.0                  0.0                  0.0   \n",
            "79                   0.0                  0.0                  0.0   \n",
            "188                  0.0                  0.0                  0.0   \n",
            "34                   0.0                  0.0                  0.0   \n",
            "27                   0.0                  0.0                  0.0   \n",
            "150                  0.0                  0.0                  0.0   \n",
            "183                  0.0                  0.0                  0.0   \n",
            "244                  0.0                  0.0                  0.0   \n",
            "95                   0.0                  0.0                  0.0   \n",
            "136                  0.0                  0.0                  0.0   \n",
            "216                  0.0                  0.0                  0.0   \n",
            "263                  0.0                  0.0                  0.0   \n",
            "55                   0.0                  0.0                  0.0   \n",
            "178                  0.0                  0.0                  0.0   \n",
            "157                  0.0                  0.0                  0.0   \n",
            "155                  0.0                  0.0                  0.0   \n",
            "235                  0.0                  0.0                  0.0   \n",
            "25                   0.0                  0.0                  0.0   \n",
            "3                    0.0                  0.0                  0.0   \n",
            "53                   0.0                  0.0                  0.0   \n",
            "\n",
            "     tf_idf_word_count_6  ...  tfidf_word_count_tf_idf_word_count_2480  \\\n",
            "100                  0.0  ...                                      0.0   \n",
            "79                   0.0  ...                                      0.0   \n",
            "188                  0.0  ...                                      0.0   \n",
            "34                   0.0  ...                                      0.0   \n",
            "27                   0.0  ...                                      0.0   \n",
            "150                  0.0  ...                                      0.0   \n",
            "183                  0.0  ...                                      0.0   \n",
            "244                  0.0  ...                                      0.0   \n",
            "95                   0.0  ...                                      0.0   \n",
            "136                  0.0  ...                                      0.0   \n",
            "216                  0.0  ...                                      0.0   \n",
            "263                  0.0  ...                                      0.0   \n",
            "55                   0.0  ...                                      0.0   \n",
            "178                  0.0  ...                                      0.0   \n",
            "157                  0.0  ...                                      0.0   \n",
            "155                  0.0  ...                                      0.0   \n",
            "235                  0.0  ...                                      0.0   \n",
            "25                   0.0  ...                                      0.0   \n",
            "3                    0.0  ...                                      0.0   \n",
            "53                   0.0  ...                                      0.0   \n",
            "\n",
            "     tfidf_word_count_tf_idf_word_count_2481  \\\n",
            "100                                      0.0   \n",
            "79                                       0.0   \n",
            "188                                      0.0   \n",
            "34                                       0.0   \n",
            "27                                       0.0   \n",
            "150                                      0.0   \n",
            "183                                      0.0   \n",
            "244                                      0.0   \n",
            "95                                       0.0   \n",
            "136                                      0.0   \n",
            "216                                      0.0   \n",
            "263                                      0.0   \n",
            "55                                       0.0   \n",
            "178                                      0.0   \n",
            "157                                      0.0   \n",
            "155                                      0.0   \n",
            "235                                      0.0   \n",
            "25                                       0.0   \n",
            "3                                        0.0   \n",
            "53                                       0.0   \n",
            "\n",
            "     tfidf_word_count_tf_idf_word_count_2482  \\\n",
            "100                                      0.0   \n",
            "79                                       0.0   \n",
            "188                                      0.0   \n",
            "34                                       0.0   \n",
            "27                                       0.0   \n",
            "150                                      0.0   \n",
            "183                                      0.0   \n",
            "244                                      0.0   \n",
            "95                                       0.0   \n",
            "136                                      0.0   \n",
            "216                                      0.0   \n",
            "263                                      0.0   \n",
            "55                                       0.0   \n",
            "178                                      0.0   \n",
            "157                                      0.0   \n",
            "155                                      0.0   \n",
            "235                                      0.0   \n",
            "25                                       0.0   \n",
            "3                                        0.0   \n",
            "53                                       0.0   \n",
            "\n",
            "     tfidf_word_count_tf_idf_word_count_2483  \\\n",
            "100                                      0.0   \n",
            "79                                       0.0   \n",
            "188                                      0.0   \n",
            "34                                       0.0   \n",
            "27                                       0.0   \n",
            "150                                      0.0   \n",
            "183                                      0.0   \n",
            "244                                      0.0   \n",
            "95                                       0.0   \n",
            "136                                      0.0   \n",
            "216                                      0.0   \n",
            "263                                      0.0   \n",
            "55                                       0.0   \n",
            "178                                      0.0   \n",
            "157                                      0.0   \n",
            "155                                      0.0   \n",
            "235                                      0.0   \n",
            "25                                       0.0   \n",
            "3                                        0.0   \n",
            "53                                       0.0   \n",
            "\n",
            "     tfidf_word_count_tf_idf_word_count_2484  \\\n",
            "100                                 0.000000   \n",
            "79                                  0.000000   \n",
            "188                                 0.000000   \n",
            "34                                  0.000000   \n",
            "27                                  0.000000   \n",
            "150                                 0.000000   \n",
            "183                                 0.000000   \n",
            "244                                 0.000000   \n",
            "95                                  0.000000   \n",
            "136                                 0.000000   \n",
            "216                                 0.000000   \n",
            "263                                 0.000000   \n",
            "55                                  0.000000   \n",
            "178                                 0.000000   \n",
            "157                                 0.000000   \n",
            "155                                 0.209419   \n",
            "235                                 0.000000   \n",
            "25                                  0.000000   \n",
            "3                                   0.000000   \n",
            "53                                  0.000000   \n",
            "\n",
            "     tfidf_word_count_tf_idf_word_count_2485  \\\n",
            "100                                      0.0   \n",
            "79                                       0.0   \n",
            "188                                      0.0   \n",
            "34                                       0.0   \n",
            "27                                       0.0   \n",
            "150                                      0.0   \n",
            "183                                      0.0   \n",
            "244                                      0.0   \n",
            "95                                       0.0   \n",
            "136                                      0.0   \n",
            "216                                      0.0   \n",
            "263                                      0.0   \n",
            "55                                       0.0   \n",
            "178                                      0.0   \n",
            "157                                      0.0   \n",
            "155                                      0.0   \n",
            "235                                      0.0   \n",
            "25                                       0.0   \n",
            "3                                        0.0   \n",
            "53                                       0.0   \n",
            "\n",
            "     tfidf_word_count_tf_idf_word_count_2486  \\\n",
            "100                                      0.0   \n",
            "79                                       0.0   \n",
            "188                                      0.0   \n",
            "34                                       0.0   \n",
            "27                                       0.0   \n",
            "150                                      0.0   \n",
            "183                                      0.0   \n",
            "244                                      0.0   \n",
            "95                                       0.0   \n",
            "136                                      0.0   \n",
            "216                                      0.0   \n",
            "263                                      0.0   \n",
            "55                                       0.0   \n",
            "178                                      0.0   \n",
            "157                                      0.0   \n",
            "155                                      0.0   \n",
            "235                                      0.0   \n",
            "25                                       0.0   \n",
            "3                                        0.0   \n",
            "53                                       0.0   \n",
            "\n",
            "     tfidf_word_count_tf_idf_word_count_2487  \\\n",
            "100                                      0.0   \n",
            "79                                       0.0   \n",
            "188                                      0.0   \n",
            "34                                       0.0   \n",
            "27                                       0.0   \n",
            "150                                      0.0   \n",
            "183                                      0.0   \n",
            "244                                      0.0   \n",
            "95                                       0.0   \n",
            "136                                      0.0   \n",
            "216                                      0.0   \n",
            "263                                      0.0   \n",
            "55                                       0.0   \n",
            "178                                      0.0   \n",
            "157                                      0.0   \n",
            "155                                      0.0   \n",
            "235                                      0.0   \n",
            "25                                       0.0   \n",
            "3                                        0.0   \n",
            "53                                       0.0   \n",
            "\n",
            "     tfidf_word_count_tf_idf_word_count_2488  \\\n",
            "100                                      0.0   \n",
            "79                                       0.0   \n",
            "188                                      0.0   \n",
            "34                                       0.0   \n",
            "27                                       0.0   \n",
            "150                                      0.0   \n",
            "183                                      0.0   \n",
            "244                                      0.0   \n",
            "95                                       0.0   \n",
            "136                                      0.0   \n",
            "216                                      0.0   \n",
            "263                                      0.0   \n",
            "55                                       0.0   \n",
            "178                                      0.0   \n",
            "157                                      0.0   \n",
            "155                                      0.0   \n",
            "235                                      0.0   \n",
            "25                                       0.0   \n",
            "3                                        0.0   \n",
            "53                                       0.0   \n",
            "\n",
            "     tfidf_word_count_tf_idf_word_count_2489  \n",
            "100                                      0.0  \n",
            "79                                       0.0  \n",
            "188                                      0.0  \n",
            "34                                       0.0  \n",
            "27                                       0.0  \n",
            "150                                      0.0  \n",
            "183                                      0.0  \n",
            "244                                      0.0  \n",
            "95                                       0.0  \n",
            "136                                      0.0  \n",
            "216                                      0.0  \n",
            "263                                      0.0  \n",
            "55                                       0.0  \n",
            "178                                      0.0  \n",
            "157                                      0.0  \n",
            "155                                      0.0  \n",
            "235                                      0.0  \n",
            "25                                       0.0  \n",
            "3                                        0.0  \n",
            "53                                       0.0  \n",
            "\n",
            "[20 rows x 4983 columns]\n"
          ]
        }
      ],
      "source": [
        "# Get the indices of the 20 most negative reviews\n",
        "idx_most_negative = idx[:20]\n",
        "\n",
        "# Get the corresponding reviews from the test set\n",
        "most_negative_reviews = X_test.iloc[idx_most_negative]\n",
        "print(most_negative_reviews)"
      ]
    },
    {
      "cell_type": "code",
      "execution_count": 47,
      "metadata": {
        "colab": {
          "base_uri": "https://localhost:8080/"
        },
        "id": "dbFtYJmi-e2X",
        "outputId": "08b610df-f8d7-494c-e2bb-64581a3cf11f"
      },
      "outputs": [
        {
          "output_type": "stream",
          "name": "stdout",
          "text": [
            "0.42168674698795183\n"
          ]
        }
      ],
      "source": [
        "accuracy = get_classification_accuracy(predict(X_test_sentiment.to_numpy(), sentiment_model_weights, sentiment_model_bias),\n",
        "                                       np.ravel(y_test))\n",
        "print(accuracy)"
      ]
    },
    {
      "cell_type": "code",
      "execution_count": 48,
      "metadata": {
        "colab": {
          "base_uri": "https://localhost:8080/"
        },
        "id": "Tb0qJsV--e2Y",
        "outputId": "bf7a3a62-2522-4369-cbd8-1f90726013ee"
      },
      "outputs": [
        {
          "output_type": "stream",
          "name": "stdout",
          "text": [
            "109\n",
            "82\n"
          ]
        },
        {
          "output_type": "stream",
          "name": "stderr",
          "text": [
            "<ipython-input-48-bf46afc58170>:1: FutureWarning: Calling int on a single element Series is deprecated and will raise a TypeError in the future. Use int(ser.iloc[0]) instead\n",
            "  num_positive = int(np.sum(y_train == +1))\n",
            "<ipython-input-48-bf46afc58170>:2: FutureWarning: Calling int on a single element Series is deprecated and will raise a TypeError in the future. Use int(ser.iloc[0]) instead\n",
            "  num_negative = int(np.sum(y_train == -1))\n"
          ]
        }
      ],
      "source": [
        "num_positive = int(np.sum(y_train == +1))\n",
        "num_negative = int(np.sum(y_train == -1))\n",
        "print(num_positive)\n",
        "print(num_negative)"
      ]
    },
    {
      "cell_type": "code",
      "execution_count": 49,
      "metadata": {
        "colab": {
          "base_uri": "https://localhost:8080/"
        },
        "id": "dIiyiei7-e2Y",
        "outputId": "dd90a5e0-9300-4428-c3ee-990445bf8084"
      },
      "outputs": [
        {
          "output_type": "stream",
          "name": "stdout",
          "text": [
            "sentiment    0.578313\n",
            "dtype: float64\n"
          ]
        }
      ],
      "source": [
        "if num_positive >= num_negative:\n",
        "    y_pred = 1\n",
        "else:\n",
        "    y_pred = -1\n",
        "\n",
        "n_correct = np.sum(y_test == y_pred)\n",
        "accuracy = n_correct / len(X_test)\n",
        "print(accuracy)"
      ]
    },
    {
      "cell_type": "code",
      "execution_count": 50,
      "metadata": {
        "colab": {
          "base_uri": "https://localhost:8080/"
        },
        "id": "sUimtcDa-e2Y",
        "outputId": "698ac810-32ae-4456-94ac-63495a3a308b"
      },
      "outputs": [
        {
          "output_type": "stream",
          "name": "stderr",
          "text": [
            "/usr/local/lib/python3.10/dist-packages/sklearn/base.py:432: UserWarning: X has feature names, but LogisticRegression was fitted without feature names\n",
            "  warnings.warn(\n"
          ]
        },
        {
          "output_type": "execute_result",
          "data": {
            "text/plain": [
              "array([[ 8, 27],\n",
              "       [ 2, 46]])"
            ]
          },
          "metadata": {},
          "execution_count": 50
        }
      ],
      "source": [
        "num_iterations=100\n",
        "sentiment_model = LogisticRegression(random_state=0, max_iter=num_iterations, tol=1e-3)\n",
        "sentiment_model.fit(X_train_sentiment.to_numpy(), np.ravel(y_train))\n",
        "\n",
        "sentiment_predictions = sentiment_model.predict(X_test_sentiment.loc[:, X_test_sentiment.columns.str.startswith('tfidf_word_count_')])\n",
        "cmatrix = confusion_matrix(y_test, sentiment_predictions)\n",
        "cmatrix"
      ]
    },
    {
      "cell_type": "code",
      "execution_count": 51,
      "metadata": {
        "colab": {
          "base_uri": "https://localhost:8080/"
        },
        "id": "H6B5vTnw-e2Y",
        "outputId": "02865ced-6762-48dc-8bf8-ebf30ae6fd29"
      },
      "outputs": [
        {
          "output_type": "stream",
          "name": "stdout",
          "text": [
            "There are 27 false positives\n",
            "There are 2 false negatives\n",
            "There are 46 true positives\n",
            "There are 8 true negatives\n"
          ]
        }
      ],
      "source": [
        "true_neg, false_pos, false_neg, true_pos = cmatrix.ravel()\n",
        "print('There are {} false positives'.format(false_pos))\n",
        "print('There are {} false negatives'.format(false_neg))\n",
        "print('There are {} true positives'.format(true_pos))\n",
        "print('There are {} true negatives'.format(true_neg))"
      ]
    },
    {
      "cell_type": "code",
      "execution_count": 52,
      "metadata": {
        "colab": {
          "base_uri": "https://localhost:8080/"
        },
        "id": "L_C8Wqqg-e2Y",
        "outputId": "14a40aa5-5132-4591-d626-7059ba069504"
      },
      "outputs": [
        {
          "output_type": "stream",
          "name": "stdout",
          "text": [
            "Precision on test data: 0.6301369863013698\n"
          ]
        },
        {
          "output_type": "execute_result",
          "data": {
            "text/plain": [
              "0.3698630136986301"
            ]
          },
          "metadata": {},
          "execution_count": 52
        }
      ],
      "source": [
        "precision = true_pos/(true_pos+false_pos)\n",
        "print(\"Precision on test data: %s\" % precision)\n",
        "\n",
        "false_pos / (true_pos + false_pos)"
      ]
    },
    {
      "cell_type": "code",
      "execution_count": 53,
      "metadata": {
        "colab": {
          "base_uri": "https://localhost:8080/"
        },
        "id": "QXdxFqo--e2Y",
        "outputId": "7500dce0-b513-46d1-d6e4-70e1ca048d76"
      },
      "outputs": [
        {
          "output_type": "stream",
          "name": "stdout",
          "text": [
            "Recall on test data: 0.9583333333333334\n"
          ]
        },
        {
          "output_type": "execute_result",
          "data": {
            "text/plain": [
              "0.9583333333333334"
            ]
          },
          "metadata": {},
          "execution_count": 53
        }
      ],
      "source": [
        "recall = true_pos / (true_pos + false_neg)\n",
        "print(\"Recall on test data: %s\" % recall)\n",
        "\n",
        "true_pos / (true_pos + false_neg)"
      ]
    },
    {
      "cell_type": "code",
      "execution_count": 54,
      "metadata": {
        "id": "ypLsZ3IQ-e2Y"
      },
      "outputs": [],
      "source": [
        "# make a list of all the attempts made to fix the data for better accuracy\n",
        "# 1. cleaning up the data further: replacing emoticons and removing reviews starting with numbers\n",
        "# 2. ROC curves\n",
        "# 2. even out the number of reviews for each drug\n",
        "\n"
      ]
    },
    {
      "cell_type": "markdown",
      "source": [
        "# SVM Classifier"
      ],
      "metadata": {
        "id": "00PXjjHwJyua"
      }
    },
    {
      "cell_type": "code",
      "source": [
        "\n",
        "def manual_metrics(y_true, y_pred):\n",
        "    true_pos = np.sum((y_pred == 1) & (y_true == 1))\n",
        "    false_pos = np.sum((y_pred == 1) & (y_true != 1))\n",
        "    false_neg = np.sum((y_pred != 1) & (y_true == 1))\n",
        "    true_neg = np.sum((y_pred != 1) & (y_true != 1))\n",
        "\n",
        "    precision = true_pos / (true_pos + false_pos) if (true_pos + false_pos) > 0 else 0\n",
        "    recall = true_pos / (true_pos + false_neg) if (true_pos + false_neg) > 0 else 0\n",
        "    f1_score = 2 * (precision * recall) / (precision + recall) if (precision + recall) > 0 else 0\n",
        "\n",
        "    return precision, recall, f1_score\n",
        "\n"
      ],
      "metadata": {
        "id": "olYd8q-RGbEm"
      },
      "execution_count": 55,
      "outputs": []
    },
    {
      "cell_type": "code",
      "source": [
        "svm_model = SVC(kernel='linear', C=1.0, random_state=42)\n",
        "svm_model.fit(X_train_sentiment, np.ravel(y_train))\n",
        "\n",
        "# Prediction\n",
        "y_pred_train = svm_model.predict(X_train_sentiment)\n",
        "y_pred_test = svm_model.predict(X_test_sentiment)\n",
        "\n",
        "# Evaluate the model\n",
        "train_accuracy = accuracy_score(y_train, y_pred_train)\n",
        "test_accuracy = accuracy_score(y_test, y_pred_test)\n",
        "\n",
        "print(f\"Training Accuracy: {train_accuracy}\")\n",
        "print(f\"Test Accuracy: {test_accuracy}\")\n"
      ],
      "metadata": {
        "colab": {
          "base_uri": "https://localhost:8080/"
        },
        "id": "vFtBX5S9Gd63",
        "outputId": "1d4ae657-1d7e-47a9-9467-bdb5f4ece401"
      },
      "execution_count": 81,
      "outputs": [
        {
          "output_type": "stream",
          "name": "stdout",
          "text": [
            "Training Accuracy: 0.9790575916230366\n",
            "Test Accuracy: 0.6626506024096386\n"
          ]
        }
      ]
    },
    {
      "cell_type": "code",
      "source": [
        "precision, recall, f1_score = manual_metrics(np.ravel(y_test), y_pred_test)\n",
        "\n",
        "print(\"Precision on test data:\", precision)\n",
        "print(\"Recall on test data:\", recall)\n",
        "print(\"F1-Score on test data:\", f1_score)"
      ],
      "metadata": {
        "colab": {
          "base_uri": "https://localhost:8080/"
        },
        "id": "mRoD7_LNHFLP",
        "outputId": "377445c6-0106-4966-bc01-e0056ec664d6"
      },
      "execution_count": 57,
      "outputs": [
        {
          "output_type": "stream",
          "name": "stdout",
          "text": [
            "Precision on test data: 0.6851851851851852\n",
            "Recall on test data: 0.7708333333333334\n",
            "F1-Score on test data: 0.7254901960784315\n"
          ]
        }
      ]
    },
    {
      "cell_type": "code",
      "source": [
        "class CustomSVM:\n",
        "    def __init__(self, learning_rate=0.001, lambda_param=0.01, n_iters=1000):\n",
        "        self.learning_rate = learning_rate\n",
        "        self.lambda_param = lambda_param  # Regularization parameter\n",
        "        self.n_iters = n_iters\n",
        "        self.weights = None\n",
        "        self.bias = None\n",
        "\n",
        "    def fit(self, X, y):\n",
        "        n_samples, n_features = X.shape\n",
        "        y_ = np.where(y <= 0, -1, 1)  # Convert labels to -1, +1\n",
        "        self.weights = np.zeros(n_features)\n",
        "        self.bias = 0\n",
        "\n",
        "        for _ in range(self.n_iters):\n",
        "            for idx, x_i in enumerate(X):\n",
        "                condition = y_[idx] * (np.dot(x_i, self.weights) - self.bias) >= 1\n",
        "                if condition:\n",
        "                    self.weights -= self.learning_rate * (2 * self.lambda_param * self.weights)\n",
        "                else:\n",
        "                    self.weights -= self.learning_rate * (2 * self.lambda_param * self.weights - np.dot(x_i, y_[idx]))\n",
        "                    self.bias -= self.learning_rate * y_[idx]\n",
        "\n",
        "    def predict(self, X):\n",
        "        linear_output = np.dot(X, self.weights) - self.bias\n",
        "        return np.sign(linear_output)\n",
        "\n",
        "\n",
        "\n",
        "# Initialize and train the custom SVM\n",
        "model = CustomSVM()\n",
        "model.fit(X_train_sentiment.to_numpy(), np.ravel(y_train))\n",
        "\n",
        "# Prediction\n",
        "predictions_train = model.predict(X_train_sentiment.to_numpy())\n",
        "predictions_test = model.predict(X_test_sentiment.to_numpy())\n",
        "\n",
        "# Evaluate the custom SVM\n",
        "train_accuracy_custom = accuracy_score(y_train, predictions_train)\n",
        "test_accuracy_custom = accuracy_score(y_test, predictions_test)\n",
        "\n",
        "print(f\"Custom SVM Training Accuracy: {train_accuracy_custom}\")\n",
        "print(f\"Custom SVM Test Accuracy: {test_accuracy_custom}\")\n"
      ],
      "metadata": {
        "colab": {
          "base_uri": "https://localhost:8080/"
        },
        "id": "maMEmbpgGtbi",
        "outputId": "b26ddf03-d319-402e-b87b-2f88d3d7fe46"
      },
      "execution_count": 58,
      "outputs": [
        {
          "output_type": "stream",
          "name": "stdout",
          "text": [
            "Custom SVM Training Accuracy: 0.5706806282722513\n",
            "Custom SVM Test Accuracy: 0.5783132530120482\n"
          ]
        }
      ]
    },
    {
      "cell_type": "code",
      "source": [
        "precision, recall, f1_score = manual_metrics(np.ravel(y_test), y_pred_test)\n",
        "\n",
        "print(\"Precision on test data:\", precision)\n",
        "print(\"Recall on test data:\", recall)\n",
        "print(\"F1-Score on test data:\", f1_score)"
      ],
      "metadata": {
        "colab": {
          "base_uri": "https://localhost:8080/"
        },
        "id": "LftKHVDQG1TQ",
        "outputId": "123d1adb-c1a2-4f8e-f353-5aee2ba6f85d"
      },
      "execution_count": 59,
      "outputs": [
        {
          "output_type": "stream",
          "name": "stdout",
          "text": [
            "Precision on test data: 0.6851851851851852\n",
            "Recall on test data: 0.7708333333333334\n",
            "F1-Score on test data: 0.7254901960784315\n"
          ]
        }
      ]
    },
    {
      "cell_type": "markdown",
      "source": [
        "# Decision Tree Classifier"
      ],
      "metadata": {
        "id": "qcFid87tJvwH"
      }
    },
    {
      "cell_type": "code",
      "source": [
        "\n",
        "X_train = X_train.drop(['Reviews'], axis=1)\n",
        "\n",
        "X_test = X_test.drop(['Reviews'], axis=1)\n",
        "\n"
      ],
      "metadata": {
        "id": "re8OmrNkJynf"
      },
      "execution_count": 60,
      "outputs": []
    },
    {
      "cell_type": "code",
      "source": [
        "class CustomDecisionTree:\n",
        "    def __init__(self, max_depth=5):\n",
        "        self.max_depth = max_depth\n",
        "        self.tree = {}\n",
        "\n",
        "    def _entropy(self, y):\n",
        "        \"\"\"Calculate the entropy of label array y.\"\"\"\n",
        "        classes, counts = np.unique(y, return_counts=True)\n",
        "        probabilities = counts / counts.sum()\n",
        "        entropy = -np.sum(probabilities * np.log2(probabilities + 1e-15))  # Add a small constant to avoid log(0)\n",
        "        return entropy\n",
        "\n",
        "    def _information_gain(self, X, y, feature_index):\n",
        "        \"\"\"Calculate the information gain of a feature.\"\"\"\n",
        "        total_entropy = self._entropy(y)\n",
        "        values, counts = np.unique(X[:, feature_index], return_counts=True)\n",
        "        weighted_entropy = sum((counts[i] / sum(counts)) * self._entropy(y[X[:, feature_index] == v])\n",
        "                               for i, v in enumerate(values))\n",
        "        information_gain = total_entropy - weighted_entropy\n",
        "        return information_gain\n",
        "\n",
        "    def _best_feature(self, X, y):\n",
        "        \"\"\"Determine the feature that provides the most information gain.\"\"\"\n",
        "        information_gains = [self._information_gain(X, y, i) for i in range(X.shape[1])]\n",
        "        return np.argmax(information_gains)\n",
        "\n",
        "    def _build_tree(self, X, y, depth=0):\n",
        "        \"\"\"Recursive function to build the decision tree.\"\"\"\n",
        "        if y.ndim > 1:\n",
        "            y = y.ravel()\n",
        "        if len(np.unique(y)) == 1 or depth == self.max_depth:\n",
        "            return np.bincount(y).argmax()\n",
        "        feature_index = self._best_feature(X, y)\n",
        "        tree = {'index': feature_index, 'children': {}}\n",
        "        for value in np.unique(X[:, feature_index]):\n",
        "            sub_X = X[X[:, feature_index] == value]\n",
        "            sub_y = y[X[:, feature_index] == value]\n",
        "            subtree = self._build_tree(sub_X, sub_y, depth + 1)\n",
        "            tree['children'][value] = subtree\n",
        "        return tree\n",
        "\n",
        "    def fit(self, X, y):\n",
        "        \"\"\"Fit the decision tree model.\"\"\"\n",
        "        if isinstance(X, pd.DataFrame):\n",
        "            X = X.values\n",
        "        if isinstance(y, pd.Series) or isinstance(y, pd.DataFrame):\n",
        "            y = y.values\n",
        "        # Convert -1 in y to 0 for np.bincount compatibility\n",
        "        y = np.where(y == -1, 0, y)\n",
        "        self.tree = self._build_tree(X, y)\n",
        "\n",
        "    def _predict_single(self, x, tree):\n",
        "        \"\"\"Recursively predict the class of a single sample x.\"\"\"\n",
        "        if type(tree) is not dict:\n",
        "            return tree\n",
        "        return self._predict_single(x, tree['children'][x[tree['index']]])\n",
        "\n",
        "    def predict(self, X):\n",
        "        \"\"\"Predict classes for an array of samples.\"\"\"\n",
        "        if isinstance(X, pd.DataFrame):\n",
        "            X = X.values\n",
        "        return np.array([self._predict_single(x, self.tree) for x in X])\n",
        "\n",
        "# Example usage\n",
        "tree_classifier = CustomDecisionTree(max_depth=3)\n",
        "tree_classifier.fit(X_train, y_train)\n",
        "y_pred_train = tree_classifier.predict(X_train)\n",
        "y_pred_test = tree_classifier.predict(X_test)\n",
        "\n",
        "\n",
        "train_accuracy = accuracy_score(y_train, y_pred_train)\n",
        "test_accuracy = accuracy_score(y_test, y_pred_test)\n",
        "# precision, recall, f1_score, _ = precision_recall_fscore_support(y_test, y_pred_test, average='macro')\n",
        "\n",
        "print(f\"Training Accuracy: {train_accuracy}\")\n",
        "print(f\"Test Accuracy: {test_accuracy}\")\n",
        "precision, recall, f1_score = manual_metrics(np.ravel(y_test), y_pred_test)\n",
        "\n",
        "print(\"Precision on test data:\", precision)\n",
        "print(\"Recall on test data:\", recall)\n",
        "print(\"F1-Score on test data:\", f1_score)\n"
      ],
      "metadata": {
        "colab": {
          "base_uri": "https://localhost:8080/"
        },
        "id": "KPMZbtAFJMw5",
        "outputId": "a0186641-146a-4913-a4bf-238ac5e7c847"
      },
      "execution_count": 79,
      "outputs": [
        {
          "output_type": "stream",
          "name": "stdout",
          "text": [
            "Training Accuracy: 0.5706806282722513\n",
            "Test Accuracy: 0.5783132530120482\n",
            "Precision on test data: 1.0\n",
            "Recall on test data: 1.0\n",
            "F1-Score on test data: 1.0\n"
          ]
        }
      ]
    },
    {
      "cell_type": "code",
      "source": [
        "# Initialize the DecisionTreeClassifier\n",
        "tree_classifier = DecisionTreeClassifier(max_depth=3, random_state=42)\n",
        "\n",
        "# Fit the model on the training data\n",
        "tree_classifier.fit(X_train, y_train)\n",
        "\n",
        "# Predict on the training set and the test set\n",
        "y_pred_train = tree_classifier.predict(X_train)\n",
        "y_pred_test = tree_classifier.predict(X_test)\n",
        "\n",
        "# Calculate and print the accuracy\n",
        "train_accuracy = accuracy_score(y_train, y_pred_train)\n",
        "test_accuracy = accuracy_score(y_test, y_pred_test)\n",
        "precision, recall, f1_score, _ = precision_recall_fscore_support(y_test, y_pred_test, average='binary')\n",
        "\n",
        "print(f\"Training Accuracy: {train_accuracy}\")\n",
        "print(f\"Test Accuracy: {test_accuracy}\")\n",
        "print(f\"Precision: {precision}\")\n",
        "print(f\"Recall: {recall}\")\n",
        "print(f\"F1-Score: {f1_score}\")\n"
      ],
      "metadata": {
        "id": "yh075ZiMUTp7",
        "colab": {
          "base_uri": "https://localhost:8080/"
        },
        "outputId": "af8056b0-8249-4482-d268-965922ce72e7"
      },
      "execution_count": 78,
      "outputs": [
        {
          "output_type": "stream",
          "name": "stdout",
          "text": [
            "Training Accuracy: 1.0\n",
            "Test Accuracy: 1.0\n",
            "Precision: 1.0\n",
            "Recall: 1.0\n",
            "F1-Score: 1.0\n"
          ]
        }
      ]
    },
    {
      "cell_type": "code",
      "source": [],
      "metadata": {
        "id": "dNVA2aHdKAPw"
      },
      "execution_count": null,
      "outputs": []
    }
  ],
  "metadata": {
    "kernelspec": {
      "display_name": "base",
      "language": "python",
      "name": "python3"
    },
    "language_info": {
      "codemirror_mode": {
        "name": "ipython",
        "version": 3
      },
      "file_extension": ".py",
      "mimetype": "text/x-python",
      "name": "python",
      "nbconvert_exporter": "python",
      "pygments_lexer": "ipython3",
      "version": "3.11.5"
    },
    "colab": {
      "provenance": []
    }
  },
  "nbformat": 4,
  "nbformat_minor": 0
}